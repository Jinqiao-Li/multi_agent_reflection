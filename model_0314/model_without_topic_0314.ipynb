{
  "cells": [
    {
      "cell_type": "code",
      "execution_count": 1,
      "metadata": {
        "id": "AX_wV_5xFVbx"
      },
      "outputs": [],
      "source": [
        "%%capture --no-stderr\n",
        "%pip install -U langchain_openai langgraph"
      ]
    },
    {
      "cell_type": "code",
      "execution_count": 2,
      "metadata": {
        "colab": {
          "base_uri": "https://localhost:8080/"
        },
        "id": "bwk8tVnHm3k9",
        "outputId": "33955f76-8df5-4160-c9a4-8569ab8e398b"
      },
      "outputs": [
        {
          "output_type": "stream",
          "name": "stdout",
          "text": [
            "Drive already mounted at /content/drive; to attempt to forcibly remount, call drive.mount(\"/content/drive\", force_remount=True).\n"
          ]
        }
      ],
      "source": [
        "from google.colab import drive\n",
        "drive.mount('/content/drive')\n"
      ]
    },
    {
      "cell_type": "code",
      "execution_count": 5,
      "metadata": {
        "id": "bnwzNi_0FbR-"
      },
      "outputs": [],
      "source": [
        "import os, getpass\n",
        "from google.colab import userdata\n",
        "from langchain_openai import ChatOpenAI\n",
        "from langchain_core.messages import AIMessage, HumanMessage, SystemMessage\n",
        "import operator\n",
        "from typing import List, Annotated, Dict\n",
        "from typing_extensions import TypedDict\n",
        "from pydantic import BaseModel, Field\n",
        "import pickle\n",
        "from langgraph.constants import Send\n",
        "import json\n",
        "from typing import Dict, Any\n",
        "from IPython.display import Image\n",
        "from langgraph.graph import END, StateGraph, START\n",
        "import warnings\n",
        "\n",
        "from final_feedback_prompt import final_feedback_instruction\n",
        "from judgement_prompt import judgement_instructions\n"
      ]
    },
    {
      "cell_type": "code",
      "execution_count": 28,
      "metadata": {
        "id": "pjMDXnRhJtQq"
      },
      "outputs": [],
      "source": [
        "\n",
        "\n",
        "\n"
      ]
    },
    {
      "cell_type": "markdown",
      "metadata": {
        "id": "KaCCZVDBF1NM"
      },
      "source": [
        "## environment setting"
      ]
    },
    {
      "cell_type": "code",
      "execution_count": 6,
      "metadata": {
        "id": "PkAGewM3FbPn"
      },
      "outputs": [],
      "source": [
        "# Ignore the specific Pydantic warning\n",
        "warnings.filterwarnings(\"ignore\", category=DeprecationWarning, module=\"pydantic\")\n",
        "\n",
        "\n",
        "os.environ['OPENAI_API_KEY'] = userdata.get('OPENAI_API_KEY')\n",
        "os.environ[\"LANGCHAIN_TRACING_V2\"] = \"true\"\n",
        "os.environ[\"LANGCHAIN_PROJECT\"] = \"langchain-academy\"\n",
        "os.environ['LANGCHAIN_API_KEY'] = userdata.get('LANGCHAIN_API_KEY')\n",
        "\n",
        "# LLM\n",
        "llm = ChatOpenAI(model=\"gpt-4o-mini\", temperature=0)"
      ]
    },
    {
      "cell_type": "markdown",
      "metadata": {
        "id": "3O2nyTccF-Qm"
      },
      "source": [
        "## Objects define"
      ]
    },
    {
      "cell_type": "code",
      "execution_count": 7,
      "metadata": {
        "id": "doGaY_cfFbNY"
      },
      "outputs": [],
      "source": [
        "\n",
        "class Analyst(BaseModel):\n",
        "    affiliation: str = Field(\n",
        "        description=\"Primary affiliation of the analyst.\",\n",
        "    )\n",
        "    name: str = Field(\n",
        "        description=\"Name of the analyst.\"\n",
        "    )\n",
        "    step_role: str = Field(\n",
        "        description=\"Specific step of Gibbs’ Cycle assigned to the analyst\",\n",
        "    )\n",
        "    description: str = Field(\n",
        "\n",
        "        description=\"Description of the analyst focus, concerns, and motives.\",\n",
        "    )\n",
        "    @property\n",
        "    def persona(self) -> str:\n",
        "        return f\"Name: {self.name}\\nRole: {self.step_role}\\nAffiliation: {self.affiliation}\\nDescription: {self.description}\\n\"\n",
        "\n",
        "class Perspectives(BaseModel):\n",
        "    analysts: List[Analyst] = Field(\n",
        "        description=\"Comprehensive list of analysts with their roles and affiliations.\",\n",
        "    )\n",
        "\n",
        "class FinalFeedback(BaseModel):\n",
        "    is_reflection:int\n",
        "    grades: Dict[str, int] = Field(..., description=\"Grades for each step of Gibbs' Cycle.\")\n",
        "    feedback: str = Field(..., description=\"Overall feedback on the reflection.\")\n",
        "\n",
        "class OverallState(TypedDict):\n",
        "    topic: str\n",
        "    reflection_input:str\n",
        "    question:str\n",
        "    course_name:str\n",
        "    analysts: List[Analyst] # Analyst asking questions\n",
        "    judgements: Annotated[list, operator.add]\n",
        "    final_summarized_output: str\n",
        "\n",
        "\n",
        "class JudgementState(TypedDict):\n",
        "    analyst:Analyst\n",
        "    course_name: str = Field(..., description=\"Name of the course relevant to the reflection.\")\n",
        "    question: str = Field(..., description=\"The specific question prompting the reflection.\")\n",
        "    reflection_input: str\n",
        "\n",
        "class Judgement(BaseModel):\n",
        "    judgement: str = Field(None, description=\"Detailed feedback for the step.\")\n",
        "\n"
      ]
    },
    {
      "cell_type": "code",
      "execution_count": 22,
      "metadata": {
        "id": "for5WeubFbK-"
      },
      "outputs": [],
      "source": [
        "\n",
        "\n",
        "\n",
        "def continue_to_judgements(state: OverallState):\n",
        "    return [Send(\"generate_judgement\", {\"analyst\": a,\n",
        "                                        \"reflection_input\": state[\"reflection_input\"],\n",
        "                                        \"question\":state[\"question\"],\n",
        "                                        \"course_name\":state[\"course_name\"],\n",
        "                                        }) for a in state[\"analysts\"]]\n",
        "\n",
        "\n",
        "def generate_judgement(state: JudgementState):\n",
        "    # Get state\n",
        "    analyst = state[\"analyst\"]\n",
        "    course_name = state[\"course_name\"]\n",
        "    question = state[\"question\"]\n",
        "    reflection_input = state[\"reflection_input\"]\n",
        "\n",
        "    # Generate judgement for specific reflection text\n",
        "    system_message = judgement_instructions.format(persona=analyst.persona,\n",
        "                                                   step_role=analyst.step_role,\n",
        "                                                   course_name=course_name,\n",
        "                                                   question=question,\n",
        "                                                   reflection_input=reflection_input)\n",
        "    structured_llm = llm.with_structured_output(Judgement)\n",
        "    response = structured_llm.invoke([SystemMessage(content=system_message),\n",
        "                                                             HumanMessage(content=reflection_input)])\n",
        "    return {\"judgements\": [response.judgement]}\n",
        "\n",
        "\n",
        "def final_feedback(state: OverallState):\n",
        "\n",
        "    judgements = \"\\n\\n\".join(state[\"judgements\"])\n",
        "    prompt = final_feedback_instruction.format(\n",
        "                                               reflection_input=state['reflection_input'],\n",
        "                                               analysts_judgments=judgements)\n",
        "    response = llm.with_structured_output(FinalFeedback, method=\"json_mode\").invoke(prompt)\n",
        "    return {\"final_summarized_output\": [response.model_dump()]}"
      ]
    },
    {
      "cell_type": "markdown",
      "metadata": {
        "id": "sgUKYEWcHntr"
      },
      "source": [
        "## build langgraph"
      ]
    },
    {
      "cell_type": "code",
      "execution_count": 23,
      "metadata": {
        "colab": {
          "base_uri": "https://localhost:8080/",
          "height": 350
        },
        "id": "vOqjg80fFbD3",
        "outputId": "98be0695-4e92-45e7-d997-6a1699bfbda0"
      },
      "outputs": [
        {
          "output_type": "execute_result",
          "data": {
            "image/png": "[encoded data removed]",
            "text/plain": [
              "<IPython.core.display.Image object>"
            ]
          },
          "metadata": {},
          "execution_count": 23
        }
      ],
      "source": [
        "# Construct the graph: here we put everything together to construct our graph\n",
        "graph = StateGraph(OverallState)\n",
        "graph.add_node(\"generate_judgement\", generate_judgement)\n",
        "graph.add_node(\"final_feedback\", final_feedback)\n",
        "# graph.add_edge(START, \"create_analysts\")\n",
        "graph.add_conditional_edges(START, continue_to_judgements, [\"generate_judgement\"])\n",
        "graph.add_edge(\"generate_judgement\", \"final_feedback\")\n",
        "graph.add_edge(\"final_feedback\", END)\n",
        "\n",
        "# Compile the graph\n",
        "app = graph.compile()\n",
        "Image(app.get_graph().draw_mermaid_png())"
      ]
    },
    {
      "cell_type": "markdown",
      "metadata": {
        "id": "LE2wK1MDqHQA"
      },
      "source": [
        "Function used to call API for output"
      ]
    },
    {
      "cell_type": "code",
      "execution_count": 26,
      "metadata": {
        "id": "qiO9UCETD1ZN"
      },
      "outputs": [],
      "source": [
        "with open('analysts.txt', 'r') as f:\n",
        "      analysts_data = json.load(f)\n",
        "      analysts = [Analyst(**analyst_data) for analyst_data in analysts_data]\n",
        "\n",
        "# this topic term \"General Reflection\" already saved in the analyst pickle file\n",
        "def analyze_reflection(topic=\"General Reflection\", reflection_input=None, course_name=\"Independent Study\", question=None):\n",
        "\n",
        "    generated_messages = []\n",
        "    for s in app.stream({\"topic\": topic,\n",
        "                         \"analysts\": analysts,\n",
        "                         \"reflection_input\": reflection_input,\n",
        "                         \"course_name\": course_name,\n",
        "                         \"question\": question\n",
        "                        }):\n",
        "        generated_messages.append(s)\n",
        "    result = generated_messages[-1].get('final_feedback').get('final_summarized_output')[0]\n",
        "    return result"
      ]
    },
    {
      "cell_type": "markdown",
      "metadata": {
        "id": "V8sNdYASHtXN"
      },
      "source": [
        "# Testing"
      ]
    },
    {
      "cell_type": "code",
      "source": [
        "\n",
        "# Example data\n",
        "\n",
        "reflection_input = \"The difference between Regressions and Classifications. For me these topics were not completely new but far away for applying them  after the last module the fog lifted and I have a clearer view again even though there is still to learn on application usage and limitations of these subjects\"\n",
        "question = \"What do you know now that you didnt know before the last module\"\n",
        "# Call the analyze_reflection function\n",
        "result = analyze_reflection(reflection_input=reflection_input, question=question)\n",
        "\n",
        "# Print the result\n",
        "print(result)"
      ],
      "metadata": {
        "colab": {
          "base_uri": "https://localhost:8080/"
        },
        "id": "oko7HxOxsg0E",
        "outputId": "71421352-2eaa-4a82-d0e2-064adb4ed916"
      },
      "execution_count": 30,
      "outputs": [
        {
          "output_type": "stream",
          "name": "stdout",
          "text": [
            "{'is_reflection': 1, 'grades': {'Description': 1, 'Feelings': 1, 'Evaluation': 0, 'Analysis': 1, 'Conclusion': 1, 'Action_plan': 0}, 'feedback': 'Your reflection effectively describes your experience and conveys your feelings about gaining clarity. However, the evaluation lacks depth; consider discussing specific challenges you faced with regressions and classifications. Additionally, your action plan is missing. Outline concrete steps you plan to take to deepen your understanding, such as practicing with datasets or seeking additional resources.'}\n"
          ]
        }
      ]
    }
  ],
  "metadata": {
    "colab": {
      "provenance": []
    },
    "kernelspec": {
      "display_name": "Python 3",
      "name": "python3"
    },
    "language_info": {
      "name": "python"
    }
  },
  "nbformat": 4,
  "nbformat_minor": 0
}
