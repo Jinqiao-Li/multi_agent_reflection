{
  "nbformat": 4,
  "nbformat_minor": 0,
  "metadata": {
    "colab": {
      "provenance": [],
      "authorship_tag": "ABX9TyN4p+0bm5NipD/dWfJ1jz1C",
      "include_colab_link": true
    },
    "kernelspec": {
      "name": "python3",
      "display_name": "Python 3"
    },
    "language_info": {
      "name": "python"
    }
  },
  "cells": [
    {
      "cell_type": "markdown",
      "metadata": {
        "id": "view-in-github",
        "colab_type": "text"
      },
      "source": [
        "<a href=\"https://colab.research.google.com/github/Jinqiao-Li/multi_agent_reflection/blob/compacted_three_agents/Create_3_analysts.ipynb\" target=\"_parent\"><img src=\"https://colab.research.google.com/assets/colab-badge.svg\" alt=\"Open In Colab\"/></a>"
      ]
    },
    {
      "cell_type": "code",
      "execution_count": 1,
      "metadata": {
        "id": "tgRUaZy8wJ70"
      },
      "outputs": [],
      "source": [
        "%%capture --no-stderr\n",
        "%pip install -U langchain_openai langgraph"
      ]
    },
    {
      "cell_type": "code",
      "source": [
        "import os, getpass\n",
        "from google.colab import userdata\n",
        "\n",
        "os.environ['OPENAI_API_KEY'] = userdata.get('OPENAI_API_KEY')\n",
        "os.environ[\"LANGCHAIN_TRACING_V2\"] = \"true\"\n",
        "os.environ[\"LANGCHAIN_PROJECT\"] = \"langchain-academy\"\n",
        "os.environ['LANGCHAIN_API_KEY'] = userdata.get('LANGCHAIN_API_KEY')\n"
      ],
      "metadata": {
        "id": "aLVjlrmRwTxY"
      },
      "execution_count": 2,
      "outputs": []
    },
    {
      "cell_type": "code",
      "source": [
        "from langchain_openai import ChatOpenAI\n",
        "from langchain_core.messages import AIMessage, HumanMessage, SystemMessage\n",
        "\n",
        "# LLM\n",
        "llm = ChatOpenAI(model=\"gpt-4o\", temperature=0)"
      ],
      "metadata": {
        "id": "lHmpfyAGwUj-"
      },
      "execution_count": 3,
      "outputs": []
    },
    {
      "cell_type": "code",
      "source": [
        "analyst_instructions = \"\"\"\n",
        "Your task is to define three AI analyst personas, each assigned to two steps of Gibbs’ Reflective Cycle. These personas will be returned as a list of `Analyst` objects, to populate the `analysts` field of a `Perspectives` model.\n",
        "\n",
        "0. Understand Gibbs’ Reflective Cycle:\n",
        "Gibbs’ model includes six stages for structured reflection:\n",
        "   - Step 1: Description – What happened? Describe the situation factually and clearly.\n",
        "   - Step 2: Feelings – What were you thinking and feeling? Reflect on emotions and their influence.\n",
        "   - Step 3: Evaluation – What was good or bad about the experience? Assess outcomes.\n",
        "   - Step 4: Analysis – Why did things happen as they did? Explore causes and perspectives.\n",
        "   - Step 5: Conclusion – What else could you have done? Identify lessons and alternate choices.\n",
        "   - Step 6: Action Plan – If it happened again, what would you do? Define concrete future strategies.\n",
        "\n",
        "1. Create three distinct analyst personas, each responsible for two specific steps:\n",
        "   - **Analyst 1 – Experience Specialist**\n",
        "     - `step_role`: \"Description, Feelings\"\n",
        "     - Focus: Capturing detailed events and emotional context.\n",
        "     - Style: Empathetic, curious, grounded.\n",
        "\n",
        "   - **Analyst 2 – Analytical Thinker**\n",
        "     - `step_role`: \"Evaluation, Analysis\"\n",
        "     - Focus: Critically assessing outcomes and understanding causes.\n",
        "     - Style: Objective, reflective, systems-minded.\n",
        "\n",
        "   - **Analyst 3 – Growth Strategist**\n",
        "     - `step_role`: \"Conclusion, Action Plan\"\n",
        "     - Focus: Synthesizing insights and creating forward-focused strategies.\n",
        "     - Style: Constructive, optimistic, practical.\n",
        "\n",
        "2. For each `Analyst` object, provide the following:\n",
        "   - `name`: A distinct and fitting name for the analyst.\n",
        "   - `affiliation`: A short phrase representing their mindset, background, or domain.\n",
        "   - `step_role`: The assigned pair of steps from Gibbs’ Cycle.\n",
        "   - `description`: A short but vivid persona summary, describing the analyst’s reflective style, concerns, and motives.\n",
        "\n",
        "3. Return the list of analysts as the `analysts` field of a `Perspectives` object. Do not include any explanation or prose—just the structured output.\n",
        "\"\"\""
      ],
      "metadata": {
        "id": "ZxYsj7PZwUg_"
      },
      "execution_count": 4,
      "outputs": []
    },
    {
      "cell_type": "code",
      "source": [
        "import operator\n",
        "from typing import List, Annotated\n",
        "from typing_extensions import TypedDict\n",
        "from pydantic import BaseModel, Field\n",
        "\n",
        "class Analyst(BaseModel):\n",
        "    affiliation: str = Field(\n",
        "        description=\"Primary affiliation of the analyst.\",\n",
        "    )\n",
        "    name: str = Field(\n",
        "        description=\"Name of the analyst.\"\n",
        "    )\n",
        "    step_role: str = Field(\n",
        "        description=\"Specific step of Gibbs’ Cycle assigned to the analyst\",\n",
        "    )\n",
        "    description: str = Field(\n",
        "        description=\"Description of the analyst focus, concerns, and motives.\",\n",
        "    )\n",
        "    @property\n",
        "    def persona(self) -> str:\n",
        "        return f\"Name: {self.name}\\nRole: {self.role}\\nAffiliation: {self.affiliation}\\nDescription: {self.description}\\n\"\n",
        "\n",
        "class Perspectives(BaseModel):\n",
        "    analysts: List[Analyst] = Field(\n",
        "        description=\"Comprehensive list of analysts with their roles and affiliations.\",\n",
        "    )\n",
        "class FinalFeedback(BaseModel):\n",
        "    feedback: str\n",
        "\n",
        "class OverallState(TypedDict):\n",
        "\n",
        "    reflection_input:str\n",
        "    question:str\n",
        "    course_name:str\n",
        "    analysts: List[Analyst] # Analyst asking questions\n",
        "    judgements: Annotated[list, operator.add]\n",
        "    final_summarized_output: str\n"
      ],
      "metadata": {
        "id": "DCsIlgfuwUeT"
      },
      "execution_count": 5,
      "outputs": []
    },
    {
      "cell_type": "code",
      "source": [
        "def create_analysts(state: OverallState):\n",
        "\n",
        "    \"\"\" Create analysts \"\"\"\n",
        "    # Enforce structured output\n",
        "    structured_llm = llm.with_structured_output(Perspectives)\n",
        "\n",
        "    # System message\n",
        "    system_message = analyst_instructions.format()\n",
        "\n",
        "    # Generate question\n",
        "    analysts = structured_llm.invoke([SystemMessage(content=system_message)]+[HumanMessage(content=\"Generate the set of analysts.\")])\n",
        "\n",
        "    # Write the list of analysis to state\n",
        "    return {\"analysts\": analysts.analysts}"
      ],
      "metadata": {
        "id": "AwnbgWD6wUbu"
      },
      "execution_count": 6,
      "outputs": []
    },
    {
      "cell_type": "code",
      "source": [
        "from IPython.display import Image\n",
        "from langgraph.graph import END, StateGraph, START\n",
        "\n",
        "# Construct the graph: here we put everything together to construct our graph\n",
        "graph = StateGraph(OverallState)\n",
        "graph.add_node(\"create_analysts\", create_analysts)\n",
        "\n",
        "graph.add_edge(START, \"create_analysts\")\n",
        "\n",
        "graph.add_edge(\"create_analysts\", END)\n",
        "\n",
        "# Compile the graph\n",
        "app = graph.compile()\n",
        "Image(app.get_graph().draw_mermaid_png())"
      ],
      "metadata": {
        "colab": {
          "base_uri": "https://localhost:8080/",
          "height": 512
        },
        "id": "tMbS7DEhxO-V",
        "outputId": "556e12f1-1d2e-494f-c82e-fa5686158902"
      },
      "execution_count": 7,
      "outputs": [
        {
          "output_type": "error",
          "ename": "ReadTimeout",
          "evalue": "HTTPSConnectionPool(host='mermaid.ink', port=443): Read timed out. (read timeout=10)",
          "traceback": [
            "\u001b[0;31m---------------------------------------------------------------------------\u001b[0m",
            "\u001b[0;31mTimeoutError\u001b[0m                              Traceback (most recent call last)",
            "\u001b[0;32m/usr/local/lib/python3.11/dist-packages/urllib3/connectionpool.py\u001b[0m in \u001b[0;36m_make_request\u001b[0;34m(self, conn, method, url, body, headers, retries, timeout, chunked, response_conn, preload_content, decode_content, enforce_content_length)\u001b[0m\n\u001b[1;32m    533\u001b[0m         \u001b[0;32mtry\u001b[0m\u001b[0;34m:\u001b[0m\u001b[0;34m\u001b[0m\u001b[0;34m\u001b[0m\u001b[0m\n\u001b[0;32m--> 534\u001b[0;31m             \u001b[0mresponse\u001b[0m \u001b[0;34m=\u001b[0m \u001b[0mconn\u001b[0m\u001b[0;34m.\u001b[0m\u001b[0mgetresponse\u001b[0m\u001b[0;34m(\u001b[0m\u001b[0;34m)\u001b[0m\u001b[0;34m\u001b[0m\u001b[0;34m\u001b[0m\u001b[0m\n\u001b[0m\u001b[1;32m    535\u001b[0m         \u001b[0;32mexcept\u001b[0m \u001b[0;34m(\u001b[0m\u001b[0mBaseSSLError\u001b[0m\u001b[0;34m,\u001b[0m \u001b[0mOSError\u001b[0m\u001b[0;34m)\u001b[0m \u001b[0;32mas\u001b[0m \u001b[0me\u001b[0m\u001b[0;34m:\u001b[0m\u001b[0;34m\u001b[0m\u001b[0;34m\u001b[0m\u001b[0m\n",
            "\u001b[0;32m/usr/local/lib/python3.11/dist-packages/urllib3/connection.py\u001b[0m in \u001b[0;36mgetresponse\u001b[0;34m(self)\u001b[0m\n\u001b[1;32m    515\u001b[0m         \u001b[0;31m# Get the response from http.client.HTTPConnection\u001b[0m\u001b[0;34m\u001b[0m\u001b[0;34m\u001b[0m\u001b[0m\n\u001b[0;32m--> 516\u001b[0;31m         \u001b[0mhttplib_response\u001b[0m \u001b[0;34m=\u001b[0m \u001b[0msuper\u001b[0m\u001b[0;34m(\u001b[0m\u001b[0;34m)\u001b[0m\u001b[0;34m.\u001b[0m\u001b[0mgetresponse\u001b[0m\u001b[0;34m(\u001b[0m\u001b[0;34m)\u001b[0m\u001b[0;34m\u001b[0m\u001b[0;34m\u001b[0m\u001b[0m\n\u001b[0m\u001b[1;32m    517\u001b[0m \u001b[0;34m\u001b[0m\u001b[0m\n",
            "\u001b[0;32m/usr/lib/python3.11/http/client.py\u001b[0m in \u001b[0;36mgetresponse\u001b[0;34m(self)\u001b[0m\n\u001b[1;32m   1394\u001b[0m             \u001b[0;32mtry\u001b[0m\u001b[0;34m:\u001b[0m\u001b[0;34m\u001b[0m\u001b[0;34m\u001b[0m\u001b[0m\n\u001b[0;32m-> 1395\u001b[0;31m                 \u001b[0mresponse\u001b[0m\u001b[0;34m.\u001b[0m\u001b[0mbegin\u001b[0m\u001b[0;34m(\u001b[0m\u001b[0;34m)\u001b[0m\u001b[0;34m\u001b[0m\u001b[0;34m\u001b[0m\u001b[0m\n\u001b[0m\u001b[1;32m   1396\u001b[0m             \u001b[0;32mexcept\u001b[0m \u001b[0mConnectionError\u001b[0m\u001b[0;34m:\u001b[0m\u001b[0;34m\u001b[0m\u001b[0;34m\u001b[0m\u001b[0m\n",
            "\u001b[0;32m/usr/lib/python3.11/http/client.py\u001b[0m in \u001b[0;36mbegin\u001b[0;34m(self)\u001b[0m\n\u001b[1;32m    324\u001b[0m         \u001b[0;32mwhile\u001b[0m \u001b[0;32mTrue\u001b[0m\u001b[0;34m:\u001b[0m\u001b[0;34m\u001b[0m\u001b[0;34m\u001b[0m\u001b[0m\n\u001b[0;32m--> 325\u001b[0;31m             \u001b[0mversion\u001b[0m\u001b[0;34m,\u001b[0m \u001b[0mstatus\u001b[0m\u001b[0;34m,\u001b[0m \u001b[0mreason\u001b[0m \u001b[0;34m=\u001b[0m \u001b[0mself\u001b[0m\u001b[0;34m.\u001b[0m\u001b[0m_read_status\u001b[0m\u001b[0;34m(\u001b[0m\u001b[0;34m)\u001b[0m\u001b[0;34m\u001b[0m\u001b[0;34m\u001b[0m\u001b[0m\n\u001b[0m\u001b[1;32m    326\u001b[0m             \u001b[0;32mif\u001b[0m \u001b[0mstatus\u001b[0m \u001b[0;34m!=\u001b[0m \u001b[0mCONTINUE\u001b[0m\u001b[0;34m:\u001b[0m\u001b[0;34m\u001b[0m\u001b[0;34m\u001b[0m\u001b[0m\n",
            "\u001b[0;32m/usr/lib/python3.11/http/client.py\u001b[0m in \u001b[0;36m_read_status\u001b[0;34m(self)\u001b[0m\n\u001b[1;32m    285\u001b[0m     \u001b[0;32mdef\u001b[0m \u001b[0m_read_status\u001b[0m\u001b[0;34m(\u001b[0m\u001b[0mself\u001b[0m\u001b[0;34m)\u001b[0m\u001b[0;34m:\u001b[0m\u001b[0;34m\u001b[0m\u001b[0;34m\u001b[0m\u001b[0m\n\u001b[0;32m--> 286\u001b[0;31m         \u001b[0mline\u001b[0m \u001b[0;34m=\u001b[0m \u001b[0mstr\u001b[0m\u001b[0;34m(\u001b[0m\u001b[0mself\u001b[0m\u001b[0;34m.\u001b[0m\u001b[0mfp\u001b[0m\u001b[0;34m.\u001b[0m\u001b[0mreadline\u001b[0m\u001b[0;34m(\u001b[0m\u001b[0m_MAXLINE\u001b[0m \u001b[0;34m+\u001b[0m \u001b[0;36m1\u001b[0m\u001b[0;34m)\u001b[0m\u001b[0;34m,\u001b[0m \u001b[0;34m\"iso-8859-1\"\u001b[0m\u001b[0;34m)\u001b[0m\u001b[0;34m\u001b[0m\u001b[0;34m\u001b[0m\u001b[0m\n\u001b[0m\u001b[1;32m    287\u001b[0m         \u001b[0;32mif\u001b[0m \u001b[0mlen\u001b[0m\u001b[0;34m(\u001b[0m\u001b[0mline\u001b[0m\u001b[0;34m)\u001b[0m \u001b[0;34m>\u001b[0m \u001b[0m_MAXLINE\u001b[0m\u001b[0;34m:\u001b[0m\u001b[0;34m\u001b[0m\u001b[0;34m\u001b[0m\u001b[0m\n",
            "\u001b[0;32m/usr/lib/python3.11/socket.py\u001b[0m in \u001b[0;36mreadinto\u001b[0;34m(self, b)\u001b[0m\n\u001b[1;32m    717\u001b[0m             \u001b[0;32mtry\u001b[0m\u001b[0;34m:\u001b[0m\u001b[0;34m\u001b[0m\u001b[0;34m\u001b[0m\u001b[0m\n\u001b[0;32m--> 718\u001b[0;31m                 \u001b[0;32mreturn\u001b[0m \u001b[0mself\u001b[0m\u001b[0;34m.\u001b[0m\u001b[0m_sock\u001b[0m\u001b[0;34m.\u001b[0m\u001b[0mrecv_into\u001b[0m\u001b[0;34m(\u001b[0m\u001b[0mb\u001b[0m\u001b[0;34m)\u001b[0m\u001b[0;34m\u001b[0m\u001b[0;34m\u001b[0m\u001b[0m\n\u001b[0m\u001b[1;32m    719\u001b[0m             \u001b[0;32mexcept\u001b[0m \u001b[0mtimeout\u001b[0m\u001b[0;34m:\u001b[0m\u001b[0;34m\u001b[0m\u001b[0;34m\u001b[0m\u001b[0m\n",
            "\u001b[0;32m/usr/lib/python3.11/ssl.py\u001b[0m in \u001b[0;36mrecv_into\u001b[0;34m(self, buffer, nbytes, flags)\u001b[0m\n\u001b[1;32m   1313\u001b[0m                   self.__class__)\n\u001b[0;32m-> 1314\u001b[0;31m             \u001b[0;32mreturn\u001b[0m \u001b[0mself\u001b[0m\u001b[0;34m.\u001b[0m\u001b[0mread\u001b[0m\u001b[0;34m(\u001b[0m\u001b[0mnbytes\u001b[0m\u001b[0;34m,\u001b[0m \u001b[0mbuffer\u001b[0m\u001b[0;34m)\u001b[0m\u001b[0;34m\u001b[0m\u001b[0;34m\u001b[0m\u001b[0m\n\u001b[0m\u001b[1;32m   1315\u001b[0m         \u001b[0;32melse\u001b[0m\u001b[0;34m:\u001b[0m\u001b[0;34m\u001b[0m\u001b[0;34m\u001b[0m\u001b[0m\n",
            "\u001b[0;32m/usr/lib/python3.11/ssl.py\u001b[0m in \u001b[0;36mread\u001b[0;34m(self, len, buffer)\u001b[0m\n\u001b[1;32m   1165\u001b[0m             \u001b[0;32mif\u001b[0m \u001b[0mbuffer\u001b[0m \u001b[0;32mis\u001b[0m \u001b[0;32mnot\u001b[0m \u001b[0;32mNone\u001b[0m\u001b[0;34m:\u001b[0m\u001b[0;34m\u001b[0m\u001b[0;34m\u001b[0m\u001b[0m\n\u001b[0;32m-> 1166\u001b[0;31m                 \u001b[0;32mreturn\u001b[0m \u001b[0mself\u001b[0m\u001b[0;34m.\u001b[0m\u001b[0m_sslobj\u001b[0m\u001b[0;34m.\u001b[0m\u001b[0mread\u001b[0m\u001b[0;34m(\u001b[0m\u001b[0mlen\u001b[0m\u001b[0;34m,\u001b[0m \u001b[0mbuffer\u001b[0m\u001b[0;34m)\u001b[0m\u001b[0;34m\u001b[0m\u001b[0;34m\u001b[0m\u001b[0m\n\u001b[0m\u001b[1;32m   1167\u001b[0m             \u001b[0;32melse\u001b[0m\u001b[0;34m:\u001b[0m\u001b[0;34m\u001b[0m\u001b[0;34m\u001b[0m\u001b[0m\n",
            "\u001b[0;31mTimeoutError\u001b[0m: The read operation timed out",
            "\nThe above exception was the direct cause of the following exception:\n",
            "\u001b[0;31mReadTimeoutError\u001b[0m                          Traceback (most recent call last)",
            "\u001b[0;32m/usr/local/lib/python3.11/dist-packages/requests/adapters.py\u001b[0m in \u001b[0;36msend\u001b[0;34m(self, request, stream, timeout, verify, cert, proxies)\u001b[0m\n\u001b[1;32m    666\u001b[0m         \u001b[0;32mtry\u001b[0m\u001b[0;34m:\u001b[0m\u001b[0;34m\u001b[0m\u001b[0;34m\u001b[0m\u001b[0m\n\u001b[0;32m--> 667\u001b[0;31m             resp = conn.urlopen(\n\u001b[0m\u001b[1;32m    668\u001b[0m                 \u001b[0mmethod\u001b[0m\u001b[0;34m=\u001b[0m\u001b[0mrequest\u001b[0m\u001b[0;34m.\u001b[0m\u001b[0mmethod\u001b[0m\u001b[0;34m,\u001b[0m\u001b[0;34m\u001b[0m\u001b[0;34m\u001b[0m\u001b[0m\n",
            "\u001b[0;32m/usr/local/lib/python3.11/dist-packages/urllib3/connectionpool.py\u001b[0m in \u001b[0;36murlopen\u001b[0;34m(self, method, url, body, headers, retries, redirect, assert_same_host, timeout, pool_timeout, release_conn, chunked, body_pos, preload_content, decode_content, **response_kw)\u001b[0m\n\u001b[1;32m    840\u001b[0m \u001b[0;34m\u001b[0m\u001b[0m\n\u001b[0;32m--> 841\u001b[0;31m             retries = retries.increment(\n\u001b[0m\u001b[1;32m    842\u001b[0m                 \u001b[0mmethod\u001b[0m\u001b[0;34m,\u001b[0m \u001b[0murl\u001b[0m\u001b[0;34m,\u001b[0m \u001b[0merror\u001b[0m\u001b[0;34m=\u001b[0m\u001b[0mnew_e\u001b[0m\u001b[0;34m,\u001b[0m \u001b[0m_pool\u001b[0m\u001b[0;34m=\u001b[0m\u001b[0mself\u001b[0m\u001b[0;34m,\u001b[0m \u001b[0m_stacktrace\u001b[0m\u001b[0;34m=\u001b[0m\u001b[0msys\u001b[0m\u001b[0;34m.\u001b[0m\u001b[0mexc_info\u001b[0m\u001b[0;34m(\u001b[0m\u001b[0;34m)\u001b[0m\u001b[0;34m[\u001b[0m\u001b[0;36m2\u001b[0m\u001b[0;34m]\u001b[0m\u001b[0;34m\u001b[0m\u001b[0;34m\u001b[0m\u001b[0m\n",
            "\u001b[0;32m/usr/local/lib/python3.11/dist-packages/urllib3/util/retry.py\u001b[0m in \u001b[0;36mincrement\u001b[0;34m(self, method, url, response, error, _pool, _stacktrace)\u001b[0m\n\u001b[1;32m    473\u001b[0m             \u001b[0;32mif\u001b[0m \u001b[0mread\u001b[0m \u001b[0;32mis\u001b[0m \u001b[0;32mFalse\u001b[0m \u001b[0;32mor\u001b[0m \u001b[0mmethod\u001b[0m \u001b[0;32mis\u001b[0m \u001b[0;32mNone\u001b[0m \u001b[0;32mor\u001b[0m \u001b[0;32mnot\u001b[0m \u001b[0mself\u001b[0m\u001b[0;34m.\u001b[0m\u001b[0m_is_method_retryable\u001b[0m\u001b[0;34m(\u001b[0m\u001b[0mmethod\u001b[0m\u001b[0;34m)\u001b[0m\u001b[0;34m:\u001b[0m\u001b[0;34m\u001b[0m\u001b[0;34m\u001b[0m\u001b[0m\n\u001b[0;32m--> 474\u001b[0;31m                 \u001b[0;32mraise\u001b[0m \u001b[0mreraise\u001b[0m\u001b[0;34m(\u001b[0m\u001b[0mtype\u001b[0m\u001b[0;34m(\u001b[0m\u001b[0merror\u001b[0m\u001b[0;34m)\u001b[0m\u001b[0;34m,\u001b[0m \u001b[0merror\u001b[0m\u001b[0;34m,\u001b[0m \u001b[0m_stacktrace\u001b[0m\u001b[0;34m)\u001b[0m\u001b[0;34m\u001b[0m\u001b[0;34m\u001b[0m\u001b[0m\n\u001b[0m\u001b[1;32m    475\u001b[0m             \u001b[0;32melif\u001b[0m \u001b[0mread\u001b[0m \u001b[0;32mis\u001b[0m \u001b[0;32mnot\u001b[0m \u001b[0;32mNone\u001b[0m\u001b[0;34m:\u001b[0m\u001b[0;34m\u001b[0m\u001b[0;34m\u001b[0m\u001b[0m\n",
            "\u001b[0;32m/usr/local/lib/python3.11/dist-packages/urllib3/util/util.py\u001b[0m in \u001b[0;36mreraise\u001b[0;34m(tp, value, tb)\u001b[0m\n\u001b[1;32m     38\u001b[0m             \u001b[0;32mraise\u001b[0m \u001b[0mvalue\u001b[0m\u001b[0;34m.\u001b[0m\u001b[0mwith_traceback\u001b[0m\u001b[0;34m(\u001b[0m\u001b[0mtb\u001b[0m\u001b[0;34m)\u001b[0m\u001b[0;34m\u001b[0m\u001b[0;34m\u001b[0m\u001b[0m\n\u001b[0;32m---> 39\u001b[0;31m         \u001b[0;32mraise\u001b[0m \u001b[0mvalue\u001b[0m\u001b[0;34m\u001b[0m\u001b[0;34m\u001b[0m\u001b[0m\n\u001b[0m\u001b[1;32m     40\u001b[0m     \u001b[0;32mfinally\u001b[0m\u001b[0;34m:\u001b[0m\u001b[0;34m\u001b[0m\u001b[0;34m\u001b[0m\u001b[0m\n",
            "\u001b[0;32m/usr/local/lib/python3.11/dist-packages/urllib3/connectionpool.py\u001b[0m in \u001b[0;36murlopen\u001b[0;34m(self, method, url, body, headers, retries, redirect, assert_same_host, timeout, pool_timeout, release_conn, chunked, body_pos, preload_content, decode_content, **response_kw)\u001b[0m\n\u001b[1;32m    786\u001b[0m             \u001b[0;31m# Make the request on the HTTPConnection object\u001b[0m\u001b[0;34m\u001b[0m\u001b[0;34m\u001b[0m\u001b[0m\n\u001b[0;32m--> 787\u001b[0;31m             response = self._make_request(\n\u001b[0m\u001b[1;32m    788\u001b[0m                 \u001b[0mconn\u001b[0m\u001b[0;34m,\u001b[0m\u001b[0;34m\u001b[0m\u001b[0;34m\u001b[0m\u001b[0m\n",
            "\u001b[0;32m/usr/local/lib/python3.11/dist-packages/urllib3/connectionpool.py\u001b[0m in \u001b[0;36m_make_request\u001b[0;34m(self, conn, method, url, body, headers, retries, timeout, chunked, response_conn, preload_content, decode_content, enforce_content_length)\u001b[0m\n\u001b[1;32m    535\u001b[0m         \u001b[0;32mexcept\u001b[0m \u001b[0;34m(\u001b[0m\u001b[0mBaseSSLError\u001b[0m\u001b[0;34m,\u001b[0m \u001b[0mOSError\u001b[0m\u001b[0;34m)\u001b[0m \u001b[0;32mas\u001b[0m \u001b[0me\u001b[0m\u001b[0;34m:\u001b[0m\u001b[0;34m\u001b[0m\u001b[0;34m\u001b[0m\u001b[0m\n\u001b[0;32m--> 536\u001b[0;31m             \u001b[0mself\u001b[0m\u001b[0;34m.\u001b[0m\u001b[0m_raise_timeout\u001b[0m\u001b[0;34m(\u001b[0m\u001b[0merr\u001b[0m\u001b[0;34m=\u001b[0m\u001b[0me\u001b[0m\u001b[0;34m,\u001b[0m \u001b[0murl\u001b[0m\u001b[0;34m=\u001b[0m\u001b[0murl\u001b[0m\u001b[0;34m,\u001b[0m \u001b[0mtimeout_value\u001b[0m\u001b[0;34m=\u001b[0m\u001b[0mread_timeout\u001b[0m\u001b[0;34m)\u001b[0m\u001b[0;34m\u001b[0m\u001b[0;34m\u001b[0m\u001b[0m\n\u001b[0m\u001b[1;32m    537\u001b[0m             \u001b[0;32mraise\u001b[0m\u001b[0;34m\u001b[0m\u001b[0;34m\u001b[0m\u001b[0m\n",
            "\u001b[0;32m/usr/local/lib/python3.11/dist-packages/urllib3/connectionpool.py\u001b[0m in \u001b[0;36m_raise_timeout\u001b[0;34m(self, err, url, timeout_value)\u001b[0m\n\u001b[1;32m    366\u001b[0m         \u001b[0;32mif\u001b[0m \u001b[0misinstance\u001b[0m\u001b[0;34m(\u001b[0m\u001b[0merr\u001b[0m\u001b[0;34m,\u001b[0m \u001b[0mSocketTimeout\u001b[0m\u001b[0;34m)\u001b[0m\u001b[0;34m:\u001b[0m\u001b[0;34m\u001b[0m\u001b[0;34m\u001b[0m\u001b[0m\n\u001b[0;32m--> 367\u001b[0;31m             raise ReadTimeoutError(\n\u001b[0m\u001b[1;32m    368\u001b[0m                 \u001b[0mself\u001b[0m\u001b[0;34m,\u001b[0m \u001b[0murl\u001b[0m\u001b[0;34m,\u001b[0m \u001b[0;34mf\"Read timed out. (read timeout={timeout_value})\"\u001b[0m\u001b[0;34m\u001b[0m\u001b[0;34m\u001b[0m\u001b[0m\n",
            "\u001b[0;31mReadTimeoutError\u001b[0m: HTTPSConnectionPool(host='mermaid.ink', port=443): Read timed out. (read timeout=10)",
            "\nDuring handling of the above exception, another exception occurred:\n",
            "\u001b[0;31mReadTimeout\u001b[0m                               Traceback (most recent call last)",
            "\u001b[0;32m<ipython-input-7-53919c4a8511>\u001b[0m in \u001b[0;36m<cell line: 0>\u001b[0;34m()\u001b[0m\n\u001b[1;32m     12\u001b[0m \u001b[0;31m# Compile the graph\u001b[0m\u001b[0;34m\u001b[0m\u001b[0;34m\u001b[0m\u001b[0m\n\u001b[1;32m     13\u001b[0m \u001b[0mapp\u001b[0m \u001b[0;34m=\u001b[0m \u001b[0mgraph\u001b[0m\u001b[0;34m.\u001b[0m\u001b[0mcompile\u001b[0m\u001b[0;34m(\u001b[0m\u001b[0;34m)\u001b[0m\u001b[0;34m\u001b[0m\u001b[0;34m\u001b[0m\u001b[0m\n\u001b[0;32m---> 14\u001b[0;31m \u001b[0mImage\u001b[0m\u001b[0;34m(\u001b[0m\u001b[0mapp\u001b[0m\u001b[0;34m.\u001b[0m\u001b[0mget_graph\u001b[0m\u001b[0;34m(\u001b[0m\u001b[0;34m)\u001b[0m\u001b[0;34m.\u001b[0m\u001b[0mdraw_mermaid_png\u001b[0m\u001b[0;34m(\u001b[0m\u001b[0;34m)\u001b[0m\u001b[0;34m)\u001b[0m\u001b[0;34m\u001b[0m\u001b[0;34m\u001b[0m\u001b[0m\n\u001b[0m",
            "\u001b[0;32m/usr/local/lib/python3.11/dist-packages/langchain_core/runnables/graph.py\u001b[0m in \u001b[0;36mdraw_mermaid_png\u001b[0;34m(self, curve_style, node_colors, wrap_label_n_words, output_file_path, draw_method, background_color, padding, frontmatter_config)\u001b[0m\n\u001b[1;32m    677\u001b[0m             \u001b[0mfrontmatter_config\u001b[0m\u001b[0;34m=\u001b[0m\u001b[0mfrontmatter_config\u001b[0m\u001b[0;34m,\u001b[0m\u001b[0;34m\u001b[0m\u001b[0;34m\u001b[0m\u001b[0m\n\u001b[1;32m    678\u001b[0m         )\n\u001b[0;32m--> 679\u001b[0;31m         return draw_mermaid_png(\n\u001b[0m\u001b[1;32m    680\u001b[0m             \u001b[0mmermaid_syntax\u001b[0m\u001b[0;34m=\u001b[0m\u001b[0mmermaid_syntax\u001b[0m\u001b[0;34m,\u001b[0m\u001b[0;34m\u001b[0m\u001b[0;34m\u001b[0m\u001b[0m\n\u001b[1;32m    681\u001b[0m             \u001b[0moutput_file_path\u001b[0m\u001b[0;34m=\u001b[0m\u001b[0moutput_file_path\u001b[0m\u001b[0;34m,\u001b[0m\u001b[0;34m\u001b[0m\u001b[0;34m\u001b[0m\u001b[0m\n",
            "\u001b[0;32m/usr/local/lib/python3.11/dist-packages/langchain_core/runnables/graph_mermaid.py\u001b[0m in \u001b[0;36mdraw_mermaid_png\u001b[0;34m(mermaid_syntax, output_file_path, draw_method, background_color, padding)\u001b[0m\n\u001b[1;32m    283\u001b[0m         )\n\u001b[1;32m    284\u001b[0m     \u001b[0;32melif\u001b[0m \u001b[0mdraw_method\u001b[0m \u001b[0;34m==\u001b[0m \u001b[0mMermaidDrawMethod\u001b[0m\u001b[0;34m.\u001b[0m\u001b[0mAPI\u001b[0m\u001b[0;34m:\u001b[0m\u001b[0;34m\u001b[0m\u001b[0;34m\u001b[0m\u001b[0m\n\u001b[0;32m--> 285\u001b[0;31m         img_bytes = _render_mermaid_using_api(\n\u001b[0m\u001b[1;32m    286\u001b[0m             \u001b[0mmermaid_syntax\u001b[0m\u001b[0;34m,\u001b[0m \u001b[0moutput_file_path\u001b[0m\u001b[0;34m,\u001b[0m \u001b[0mbackground_color\u001b[0m\u001b[0;34m\u001b[0m\u001b[0;34m\u001b[0m\u001b[0m\n\u001b[1;32m    287\u001b[0m         )\n",
            "\u001b[0;32m/usr/local/lib/python3.11/dist-packages/langchain_core/runnables/graph_mermaid.py\u001b[0m in \u001b[0;36m_render_mermaid_using_api\u001b[0;34m(mermaid_syntax, output_file_path, background_color, file_type)\u001b[0m\n\u001b[1;32m    401\u001b[0m         \u001b[0;34mf\"?type={file_type}&bgColor={background_color}\"\u001b[0m\u001b[0;34m\u001b[0m\u001b[0;34m\u001b[0m\u001b[0m\n\u001b[1;32m    402\u001b[0m     )\n\u001b[0;32m--> 403\u001b[0;31m     \u001b[0mresponse\u001b[0m \u001b[0;34m=\u001b[0m \u001b[0mrequests\u001b[0m\u001b[0;34m.\u001b[0m\u001b[0mget\u001b[0m\u001b[0;34m(\u001b[0m\u001b[0mimage_url\u001b[0m\u001b[0;34m,\u001b[0m \u001b[0mtimeout\u001b[0m\u001b[0;34m=\u001b[0m\u001b[0;36m10\u001b[0m\u001b[0;34m)\u001b[0m\u001b[0;34m\u001b[0m\u001b[0;34m\u001b[0m\u001b[0m\n\u001b[0m\u001b[1;32m    404\u001b[0m     \u001b[0;32mif\u001b[0m \u001b[0mresponse\u001b[0m\u001b[0;34m.\u001b[0m\u001b[0mstatus_code\u001b[0m \u001b[0;34m==\u001b[0m \u001b[0;36m200\u001b[0m\u001b[0;34m:\u001b[0m\u001b[0;34m\u001b[0m\u001b[0;34m\u001b[0m\u001b[0m\n\u001b[1;32m    405\u001b[0m         \u001b[0mimg_bytes\u001b[0m \u001b[0;34m=\u001b[0m \u001b[0mresponse\u001b[0m\u001b[0;34m.\u001b[0m\u001b[0mcontent\u001b[0m\u001b[0;34m\u001b[0m\u001b[0;34m\u001b[0m\u001b[0m\n",
            "\u001b[0;32m/usr/local/lib/python3.11/dist-packages/requests/api.py\u001b[0m in \u001b[0;36mget\u001b[0;34m(url, params, **kwargs)\u001b[0m\n\u001b[1;32m     71\u001b[0m     \"\"\"\n\u001b[1;32m     72\u001b[0m \u001b[0;34m\u001b[0m\u001b[0m\n\u001b[0;32m---> 73\u001b[0;31m     \u001b[0;32mreturn\u001b[0m \u001b[0mrequest\u001b[0m\u001b[0;34m(\u001b[0m\u001b[0;34m\"get\"\u001b[0m\u001b[0;34m,\u001b[0m \u001b[0murl\u001b[0m\u001b[0;34m,\u001b[0m \u001b[0mparams\u001b[0m\u001b[0;34m=\u001b[0m\u001b[0mparams\u001b[0m\u001b[0;34m,\u001b[0m \u001b[0;34m**\u001b[0m\u001b[0mkwargs\u001b[0m\u001b[0;34m)\u001b[0m\u001b[0;34m\u001b[0m\u001b[0;34m\u001b[0m\u001b[0m\n\u001b[0m\u001b[1;32m     74\u001b[0m \u001b[0;34m\u001b[0m\u001b[0m\n\u001b[1;32m     75\u001b[0m \u001b[0;34m\u001b[0m\u001b[0m\n",
            "\u001b[0;32m/usr/local/lib/python3.11/dist-packages/requests/api.py\u001b[0m in \u001b[0;36mrequest\u001b[0;34m(method, url, **kwargs)\u001b[0m\n\u001b[1;32m     57\u001b[0m     \u001b[0;31m# cases, and look like a memory leak in others.\u001b[0m\u001b[0;34m\u001b[0m\u001b[0;34m\u001b[0m\u001b[0m\n\u001b[1;32m     58\u001b[0m     \u001b[0;32mwith\u001b[0m \u001b[0msessions\u001b[0m\u001b[0;34m.\u001b[0m\u001b[0mSession\u001b[0m\u001b[0;34m(\u001b[0m\u001b[0;34m)\u001b[0m \u001b[0;32mas\u001b[0m \u001b[0msession\u001b[0m\u001b[0;34m:\u001b[0m\u001b[0;34m\u001b[0m\u001b[0;34m\u001b[0m\u001b[0m\n\u001b[0;32m---> 59\u001b[0;31m         \u001b[0;32mreturn\u001b[0m \u001b[0msession\u001b[0m\u001b[0;34m.\u001b[0m\u001b[0mrequest\u001b[0m\u001b[0;34m(\u001b[0m\u001b[0mmethod\u001b[0m\u001b[0;34m=\u001b[0m\u001b[0mmethod\u001b[0m\u001b[0;34m,\u001b[0m \u001b[0murl\u001b[0m\u001b[0;34m=\u001b[0m\u001b[0murl\u001b[0m\u001b[0;34m,\u001b[0m \u001b[0;34m**\u001b[0m\u001b[0mkwargs\u001b[0m\u001b[0;34m)\u001b[0m\u001b[0;34m\u001b[0m\u001b[0;34m\u001b[0m\u001b[0m\n\u001b[0m\u001b[1;32m     60\u001b[0m \u001b[0;34m\u001b[0m\u001b[0m\n\u001b[1;32m     61\u001b[0m \u001b[0;34m\u001b[0m\u001b[0m\n",
            "\u001b[0;32m/usr/local/lib/python3.11/dist-packages/requests/sessions.py\u001b[0m in \u001b[0;36mrequest\u001b[0;34m(self, method, url, params, data, headers, cookies, files, auth, timeout, allow_redirects, proxies, hooks, stream, verify, cert, json)\u001b[0m\n\u001b[1;32m    587\u001b[0m         }\n\u001b[1;32m    588\u001b[0m         \u001b[0msend_kwargs\u001b[0m\u001b[0;34m.\u001b[0m\u001b[0mupdate\u001b[0m\u001b[0;34m(\u001b[0m\u001b[0msettings\u001b[0m\u001b[0;34m)\u001b[0m\u001b[0;34m\u001b[0m\u001b[0;34m\u001b[0m\u001b[0m\n\u001b[0;32m--> 589\u001b[0;31m         \u001b[0mresp\u001b[0m \u001b[0;34m=\u001b[0m \u001b[0mself\u001b[0m\u001b[0;34m.\u001b[0m\u001b[0msend\u001b[0m\u001b[0;34m(\u001b[0m\u001b[0mprep\u001b[0m\u001b[0;34m,\u001b[0m \u001b[0;34m**\u001b[0m\u001b[0msend_kwargs\u001b[0m\u001b[0;34m)\u001b[0m\u001b[0;34m\u001b[0m\u001b[0;34m\u001b[0m\u001b[0m\n\u001b[0m\u001b[1;32m    590\u001b[0m \u001b[0;34m\u001b[0m\u001b[0m\n\u001b[1;32m    591\u001b[0m         \u001b[0;32mreturn\u001b[0m \u001b[0mresp\u001b[0m\u001b[0;34m\u001b[0m\u001b[0;34m\u001b[0m\u001b[0m\n",
            "\u001b[0;32m/usr/local/lib/python3.11/dist-packages/requests/sessions.py\u001b[0m in \u001b[0;36msend\u001b[0;34m(self, request, **kwargs)\u001b[0m\n\u001b[1;32m    701\u001b[0m \u001b[0;34m\u001b[0m\u001b[0m\n\u001b[1;32m    702\u001b[0m         \u001b[0;31m# Send the request\u001b[0m\u001b[0;34m\u001b[0m\u001b[0;34m\u001b[0m\u001b[0m\n\u001b[0;32m--> 703\u001b[0;31m         \u001b[0mr\u001b[0m \u001b[0;34m=\u001b[0m \u001b[0madapter\u001b[0m\u001b[0;34m.\u001b[0m\u001b[0msend\u001b[0m\u001b[0;34m(\u001b[0m\u001b[0mrequest\u001b[0m\u001b[0;34m,\u001b[0m \u001b[0;34m**\u001b[0m\u001b[0mkwargs\u001b[0m\u001b[0;34m)\u001b[0m\u001b[0;34m\u001b[0m\u001b[0;34m\u001b[0m\u001b[0m\n\u001b[0m\u001b[1;32m    704\u001b[0m \u001b[0;34m\u001b[0m\u001b[0m\n\u001b[1;32m    705\u001b[0m         \u001b[0;31m# Total elapsed time of the request (approximately)\u001b[0m\u001b[0;34m\u001b[0m\u001b[0;34m\u001b[0m\u001b[0m\n",
            "\u001b[0;32m/usr/local/lib/python3.11/dist-packages/requests/adapters.py\u001b[0m in \u001b[0;36msend\u001b[0;34m(self, request, stream, timeout, verify, cert, proxies)\u001b[0m\n\u001b[1;32m    711\u001b[0m                 \u001b[0;32mraise\u001b[0m \u001b[0mSSLError\u001b[0m\u001b[0;34m(\u001b[0m\u001b[0me\u001b[0m\u001b[0;34m,\u001b[0m \u001b[0mrequest\u001b[0m\u001b[0;34m=\u001b[0m\u001b[0mrequest\u001b[0m\u001b[0;34m)\u001b[0m\u001b[0;34m\u001b[0m\u001b[0;34m\u001b[0m\u001b[0m\n\u001b[1;32m    712\u001b[0m             \u001b[0;32melif\u001b[0m \u001b[0misinstance\u001b[0m\u001b[0;34m(\u001b[0m\u001b[0me\u001b[0m\u001b[0;34m,\u001b[0m \u001b[0mReadTimeoutError\u001b[0m\u001b[0;34m)\u001b[0m\u001b[0;34m:\u001b[0m\u001b[0;34m\u001b[0m\u001b[0;34m\u001b[0m\u001b[0m\n\u001b[0;32m--> 713\u001b[0;31m                 \u001b[0;32mraise\u001b[0m \u001b[0mReadTimeout\u001b[0m\u001b[0;34m(\u001b[0m\u001b[0me\u001b[0m\u001b[0;34m,\u001b[0m \u001b[0mrequest\u001b[0m\u001b[0;34m=\u001b[0m\u001b[0mrequest\u001b[0m\u001b[0;34m)\u001b[0m\u001b[0;34m\u001b[0m\u001b[0;34m\u001b[0m\u001b[0m\n\u001b[0m\u001b[1;32m    714\u001b[0m             \u001b[0;32melif\u001b[0m \u001b[0misinstance\u001b[0m\u001b[0;34m(\u001b[0m\u001b[0me\u001b[0m\u001b[0;34m,\u001b[0m \u001b[0m_InvalidHeader\u001b[0m\u001b[0;34m)\u001b[0m\u001b[0;34m:\u001b[0m\u001b[0;34m\u001b[0m\u001b[0;34m\u001b[0m\u001b[0m\n\u001b[1;32m    715\u001b[0m                 \u001b[0;32mraise\u001b[0m \u001b[0mInvalidHeader\u001b[0m\u001b[0;34m(\u001b[0m\u001b[0me\u001b[0m\u001b[0;34m,\u001b[0m \u001b[0mrequest\u001b[0m\u001b[0;34m=\u001b[0m\u001b[0mrequest\u001b[0m\u001b[0;34m)\u001b[0m\u001b[0;34m\u001b[0m\u001b[0;34m\u001b[0m\u001b[0m\n",
            "\u001b[0;31mReadTimeout\u001b[0m: HTTPSConnectionPool(host='mermaid.ink', port=443): Read timed out. (read timeout=10)"
          ]
        }
      ]
    },
    {
      "cell_type": "markdown",
      "source": [
        "# Creat analysts"
      ],
      "metadata": {
        "id": "xYDiDbci5gGk"
      }
    },
    {
      "cell_type": "code",
      "source": [
        "\n",
        "analysts_value = []\n",
        "initial_state = {}  # Provide an initial state, potentially empty\n",
        "for s in app.stream(initial_state):\n",
        "    print(s.get('create_analysts').get('analysts'))\n",
        "    analysts_value = s.get('create_analysts').get('analysts')\n",
        "\n",
        "analysts_value"
      ],
      "metadata": {
        "id": "vPrzQCRIx7Py"
      },
      "execution_count": null,
      "outputs": []
    },
    {
      "cell_type": "code",
      "source": [
        "analysts_value"
      ],
      "metadata": {
        "colab": {
          "base_uri": "https://localhost:8080/"
        },
        "id": "_U0HjqRKoZaX",
        "outputId": "8bedf7e5-bc4a-4cc1-939b-f9d31bc5e59e"
      },
      "execution_count": null,
      "outputs": [
        {
          "output_type": "execute_result",
          "data": {
            "text/plain": [
              "[Analyst(affiliation='Empathy-driven Observer', name='Alexandra Insight', step_role='Description, Feelings', description='Alexandra is dedicated to capturing the essence of experiences with a keen eye for detail and an empathetic understanding of emotions. She is curious and grounded, ensuring that every situation is described factually while also considering the emotional undertones that influence perceptions.'),\n",
              " Analyst(affiliation='Critical Systems Analyst', name='Jordan Reflect', step_role='Evaluation, Analysis', description=\"Jordan excels in objectively evaluating experiences and dissecting their outcomes. With a reflective and systems-minded approach, Jordan seeks to understand the underlying causes of events, providing a balanced assessment of what worked and what didn't.\"),\n",
              " Analyst(affiliation='Future-focused Innovator', name='Taylor Progress', step_role='Conclusion, Action Plan', description='Taylor is a constructive and optimistic strategist, focused on synthesizing insights into actionable plans. With a practical mindset, Taylor identifies lessons learned and formulates strategies to improve future outcomes, ensuring growth and development.')]"
            ]
          },
          "metadata": {},
          "execution_count": 10
        }
      ]
    },
    {
      "cell_type": "markdown",
      "source": [
        "# Save created analysts into local file"
      ],
      "metadata": {
        "id": "nuI2wSgp5nRN"
      }
    },
    {
      "cell_type": "code",
      "source": [
        "import pickle\n",
        "\n",
        "# Save the dictionary to a file\n",
        "with open('three_analyst_values.pickle', 'wb') as file:\n",
        "    pickle.dump(analysts_value, file)\n",
        "\n",
        "print(\"Dictionary saved to three_analyst_values.pickle\")"
      ],
      "metadata": {
        "colab": {
          "base_uri": "https://localhost:8080/"
        },
        "id": "X_SE6uZDxO5E",
        "outputId": "005bec13-e4d9-42b0-fdef-276e90eaa104"
      },
      "execution_count": null,
      "outputs": [
        {
          "output_type": "stream",
          "name": "stdout",
          "text": [
            "Dictionary saved to all_analyst_values.pickle\n"
          ]
        }
      ]
    },
    {
      "cell_type": "markdown",
      "source": [
        "## re-import saved analysts info"
      ],
      "metadata": {
        "id": "loDgs5ai5vuA"
      }
    },
    {
      "cell_type": "code",
      "source": [
        "import pickle\n",
        "\n",
        "with open('three_analyst_values.pickle', 'rb') as file:\n",
        "    loaded_dict = pickle.load(file)\n",
        "\n",
        "# Now you can use loaded_dict, which contains the saved data\n",
        "print(loaded_dict)"
      ],
      "metadata": {
        "colab": {
          "base_uri": "https://localhost:8080/"
        },
        "id": "q3RD0DiwxO19",
        "outputId": "e469a0ae-ca34-4574-8c7c-216bf5412e12"
      },
      "execution_count": null,
      "outputs": [
        {
          "output_type": "stream",
          "name": "stdout",
          "text": [
            "{'Management and Strategy': [Analyst(affiliation='Business Analysis Department', name='Alex Carter', step_role='Description', description='Alex focuses on providing a clear and factual summary of the situation or event. Their primary concern is to ensure that all relevant details are captured accurately without any bias or interpretation. Alex aims to set a solid foundation for further reflection by presenting an objective account of what happened.'), Analyst(affiliation='Emotional Intelligence Unit', name='Jamie Lee', step_role='Feelings', description=\"Jamie specializes in exploring the emotional landscape of the situation. They are concerned with identifying and understanding the emotions experienced by individuals involved and how these emotions influenced their actions. Jamie's motive is to highlight the emotional dynamics that played a role in the event.\"), Analyst(affiliation='Performance Evaluation Group', name='Morgan Taylor', step_role='Evaluation', description=\"Morgan is dedicated to assessing the effectiveness of actions taken during the situation. They focus on identifying what aspects worked well and which did not, providing a balanced view of the situation's successes and failures. Morgan's goal is to offer insights into the strengths and weaknesses of the approach taken.\"), Analyst(affiliation='Strategic Analysis Team', name='Riley Jordan', step_role='Analysis', description=\"Riley delves into understanding the underlying causes and consequences of the events. They are concerned with uncovering the root factors that led to the situation and the impact it had. Riley's motive is to provide a deeper understanding of the event's dynamics to inform future decisions.\"), Analyst(affiliation='Outcome Improvement Division', name='Casey Morgan', step_role='Conclusion', description=\"Casey focuses on drawing conclusions about what could have been done differently to achieve a better outcome. They are concerned with identifying alternative strategies and actions that could have improved the situation. Casey's motive is to learn from past experiences to enhance future performance.\"), Analyst(affiliation='Forward Planning Office', name='Jordan Casey', step_role='Action Plan', description=\"Jordan is responsible for developing specific recommendations and a forward-looking plan for similar situations. They focus on creating actionable steps that can be implemented to improve future outcomes. Jordan's motive is to ensure that lessons learned are translated into practical strategies for success.\")], 'Data Science and Technology': [Analyst(affiliation='Data Science Institute', name='Dr. Emily Carter', step_role='Description', description='Dr. Carter is tasked with providing a clear and factual summary of the situation or event related to data science and technology. Her focus is on gathering all relevant details without interpretation or bias, ensuring that the description is comprehensive and sets the stage for further reflection.'), Analyst(affiliation='Emotional Intelligence Research Group', name='Dr. Michael Thompson', step_role='Feelings', description='Dr. Thompson specializes in understanding the emotional landscape of events. His role is to reflect on the emotions experienced during the situation, considering how these feelings influenced actions and decisions. He aims to provide insights into the emotional dynamics at play.'), Analyst(affiliation='Performance Evaluation Lab', name='Dr. Sarah Nguyen', step_role='Evaluation', description=\"Dr. Nguyen's focus is on evaluating the effectiveness of actions taken during the event. She analyzes what aspects worked well and which did not, providing a balanced view of the situation's successes and shortcomings. Her insights help identify areas for improvement.\"), Analyst(affiliation='Causal Analysis Center', name='Dr. Raj Patel', step_role='Analysis', description=\"Dr. Patel delves into the underlying causes and consequences of the events. His analysis seeks to uncover the root factors that led to the outcomes observed, offering a deeper understanding of the situation's dynamics and potential long-term impacts.\"), Analyst(affiliation='Strategic Solutions Group', name='Dr. Lisa Chen', step_role='Conclusion', description='Dr. Chen is responsible for drawing conclusions from the reflective process. She determines what could have been done differently to achieve better outcomes, synthesizing insights from previous steps to propose alternative strategies and solutions.'), Analyst(affiliation='Future Planning Institute', name='Dr. John Smith', step_role='Action Plan', description='Dr. Smith focuses on developing a forward-looking action plan. He creates specific recommendations and strategies for handling similar situations in the future, ensuring that lessons learned are translated into practical steps for improvement.')], 'Leadership and Sustainability': [Analyst(affiliation='Institute of Leadership Studies', name='Dr. Emily Carter', step_role='Description', description='Dr. Carter focuses on providing a clear and factual summary of the leadership and sustainability situation. Her primary concern is to ensure that all relevant details are captured accurately without any bias or interpretation. She aims to set a solid foundation for further reflection by presenting a comprehensive overview of the events as they occurred.'), Analyst(affiliation='Emotional Intelligence Research Group', name='Dr. Michael Thompson', step_role='Feelings', description='Dr. Thompson specializes in exploring the emotional landscape of leadership and sustainability scenarios. His focus is on identifying and understanding the emotions experienced by leaders and stakeholders during the event, and how these emotions influenced their actions and decisions. He aims to provide insights into the emotional dynamics at play, which can inform future emotional management strategies.'), Analyst(affiliation='Center for Organizational Effectiveness', name='Prof. Sarah Lin', step_role='Evaluation', description=\"Prof. Lin is dedicated to evaluating the effectiveness of actions taken during the leadership and sustainability event. She analyzes what aspects of the situation were successful and which were not, providing a balanced view of the outcomes. Her goal is to highlight key successes and areas for improvement, offering a critical assessment of the event's execution.\"), Analyst(affiliation='Sustainability Impact Analysis Group', name='Dr. Raj Patel', step_role='Analysis', description=\"Dr. Patel delves into the underlying causes and consequences of the leadership and sustainability event. His focus is on understanding the broader context and the factors that led to the outcomes observed. He aims to uncover systemic issues and patterns that may have influenced the event, providing a deeper understanding of the situation's complexity.\"), Analyst(affiliation='Leadership Development Institute', name='Dr. Anna Kim', step_role='Conclusion', description='Dr. Kim is tasked with drawing conclusions from the leadership and sustainability event. She focuses on identifying what could have been done differently to achieve better outcomes. Her analysis is aimed at synthesizing insights from previous steps to propose alternative strategies and approaches that could enhance future performance.'), Analyst(affiliation='Future Strategies and Planning Center', name=\"Mr. John O'Reilly\", step_role='Action Plan', description=\"Mr. O'Reilly specializes in developing actionable plans for future leadership and sustainability scenarios. His focus is on creating specific, practical recommendations based on the insights gained from the reflection process. He aims to equip leaders with a clear roadmap for handling similar situations more effectively in the future.\")], 'Psychology, Media, and Communication': [Analyst(affiliation='University of Media Studies', name='Dr. Emily Carter', step_role='Description', description='Dr. Carter focuses on providing a clear and factual summary of the situation or event. Her primary concern is to ensure that all relevant details are captured without bias or interpretation, setting a solid foundation for further reflection.'), Analyst(affiliation='Institute of Emotional Intelligence', name='Dr. Michael Nguyen', step_role='Feelings', description='Dr. Nguyen specializes in exploring the emotional landscape of the situation. He aims to identify and articulate the emotions experienced, understanding their impact on behavior and decision-making during the event.'), Analyst(affiliation='Center for Critical Evaluation', name='Prof. Sarah Thompson', step_role='Evaluation', description=\"Prof. Thompson is dedicated to assessing the effectiveness of actions taken during the situation. Her focus is on identifying what aspects were successful and which were not, providing a balanced view of the event's outcomes.\"), Analyst(affiliation='Analytical Psychology Institute', name='Dr. Raj Patel', step_role='Analysis', description='Dr. Patel delves into the underlying causes and consequences of the situation. His analysis seeks to uncover deeper insights into why events unfolded as they did, considering both internal and external factors.'), Analyst(affiliation='School of Reflective Practice', name='Dr. Lisa Chen', step_role='Conclusion', description=\"Dr. Chen's role is to draw conclusions from the reflection process, determining what could have been done differently. She focuses on synthesizing insights to suggest improvements for future situations.\"), Analyst(affiliation='Future Planning Institute', name='Mr. John Smith', step_role='Action Plan', description='Mr. Smith is responsible for developing a forward-looking action plan. His goal is to create specific, actionable recommendations that can be applied to similar situations in the future, ensuring continuous improvement.')], 'Environmental and Resource Management': [Analyst(affiliation='Environmental Research Institute', name='Dr. Emily Carter', step_role='Description', description='Dr. Carter is tasked with providing a clear and factual summary of the environmental and resource management situation. Her focus is on gathering all relevant data and presenting it in an organized manner, ensuring that the context and key details are accurately captured without interpretation or bias.'), Analyst(affiliation='Emotional Intelligence Consultancy', name='Mr. John Smith', step_role='Feelings', description='Mr. Smith specializes in identifying and reflecting on the emotions experienced during the environmental management situation. His role is to explore how these emotions influenced the actions and decisions made, providing insights into the emotional dynamics at play.'), Analyst(affiliation='Sustainability Evaluation Group', name='Dr. Sarah Johnson', step_role='Evaluation', description=\"Dr. Johnson's role is to critically assess what aspects of the environmental management efforts were successful and which were not. She focuses on identifying strengths and weaknesses in the approach taken, providing a balanced evaluation of the outcomes.\"), Analyst(affiliation='Environmental Systems Analysis Lab', name='Prof. Michael Lee', step_role='Analysis', description='Prof. Lee delves into the underlying causes and consequences of the events in the environmental management scenario. His analysis aims to uncover the root issues and the broader impact of the actions taken, offering a deeper understanding of the situation.'), Analyst(affiliation='Strategic Environmental Solutions', name='Ms. Laura Chen', step_role='Conclusion', description='Ms. Chen is responsible for drawing conclusions from the analysis, determining what could have been done differently to achieve better results. Her focus is on synthesizing insights to propose alternative strategies that could improve future outcomes.'), Analyst(affiliation='Future Planning and Policy Development', name='Dr. Robert Patel', step_role='Action Plan', description=\"Dr. Patel's task is to develop a forward-looking action plan based on the conclusions drawn. He provides specific recommendations and strategies for handling similar environmental management situations in the future, ensuring that lessons learned are applied effectively.\")], 'General Reflection': [Analyst(affiliation='Event Documentation Department', name='Alex Describer', step_role='Description', description='Alex specializes in capturing and summarizing events with clarity and precision. Their focus is on ensuring that all relevant details of the situation are documented factually, without interpretation or bias. Alex is concerned with the accuracy and completeness of the description to provide a solid foundation for further reflection.'), Analyst(affiliation='Emotional Insights Group', name='Fiona Feeler', step_role='Feelings', description='Fiona is dedicated to exploring the emotional landscape of experiences. Her role is to identify and articulate the emotions felt during the event, understanding how these emotions influenced actions and decisions. Fiona aims to provide insights into the emotional context to enhance self-awareness and emotional intelligence.'), Analyst(affiliation='Performance Evaluation Unit', name='Evan Evaluator', step_role='Evaluation', description=\"Evan focuses on assessing the effectiveness of actions taken during the event. His concern is to identify what aspects of the situation were successful and which were not, providing a balanced view of the outcomes. Evan's insights help in recognizing strengths and areas for improvement.\"), Analyst(affiliation='Causal Analysis Division', name='Anita Analyst', step_role='Analysis', description=\"Anita delves into the underlying causes and consequences of the events. Her focus is on understanding the dynamics and factors that led to the outcomes observed. Anita's analysis aims to uncover deeper insights into the situation, facilitating a comprehensive understanding of the event's impact.\"), Analyst(affiliation='Strategic Conclusion Team', name='Connie Concluder', step_role='Conclusion', description=\"Connie is responsible for synthesizing insights to determine what could have been done differently. Her focus is on drawing lessons from the experience and identifying alternative strategies that could have improved the outcome. Connie's conclusions are aimed at guiding future actions and decisions.\"), Analyst(affiliation='Future Planning Office', name='Aaron Actioner', step_role='Action Plan', description=\"Aaron specializes in developing actionable plans for future situations. His role is to create specific, practical recommendations based on the reflection process. Aaron's focus is on ensuring that lessons learned are translated into effective strategies for similar future events, promoting continuous improvement.\")]}\n"
          ]
        }
      ]
    },
    {
      "cell_type": "code",
      "source": [
        "loaded_dict"
      ],
      "metadata": {
        "colab": {
          "base_uri": "https://localhost:8080/"
        },
        "id": "NKgwWs1zxOyz",
        "outputId": "538d6f4a-f6db-4920-b494-5f43d86b36d6"
      },
      "execution_count": null,
      "outputs": [
        {
          "output_type": "execute_result",
          "data": {
            "text/plain": [
              "{'Management and Strategy': [Analyst(affiliation='Business Analysis Department', name='Alex Carter', step_role='Description', description='Alex focuses on providing a clear and factual summary of the situation or event. Their primary concern is to ensure that all relevant details are captured accurately without any bias or interpretation. Alex aims to set a solid foundation for further reflection by presenting an objective account of what happened.'),\n",
              "  Analyst(affiliation='Emotional Intelligence Unit', name='Jamie Lee', step_role='Feelings', description=\"Jamie specializes in exploring the emotional landscape of the situation. They are concerned with identifying and understanding the emotions experienced by individuals involved and how these emotions influenced their actions. Jamie's motive is to highlight the emotional dynamics that played a role in the event.\"),\n",
              "  Analyst(affiliation='Performance Evaluation Group', name='Morgan Taylor', step_role='Evaluation', description=\"Morgan is dedicated to assessing the effectiveness of actions taken during the situation. They focus on identifying what aspects worked well and which did not, providing a balanced view of the situation's successes and failures. Morgan's goal is to offer insights into the strengths and weaknesses of the approach taken.\"),\n",
              "  Analyst(affiliation='Strategic Analysis Team', name='Riley Jordan', step_role='Analysis', description=\"Riley delves into understanding the underlying causes and consequences of the events. They are concerned with uncovering the root factors that led to the situation and the impact it had. Riley's motive is to provide a deeper understanding of the event's dynamics to inform future decisions.\"),\n",
              "  Analyst(affiliation='Outcome Improvement Division', name='Casey Morgan', step_role='Conclusion', description=\"Casey focuses on drawing conclusions about what could have been done differently to achieve a better outcome. They are concerned with identifying alternative strategies and actions that could have improved the situation. Casey's motive is to learn from past experiences to enhance future performance.\"),\n",
              "  Analyst(affiliation='Forward Planning Office', name='Jordan Casey', step_role='Action Plan', description=\"Jordan is responsible for developing specific recommendations and a forward-looking plan for similar situations. They focus on creating actionable steps that can be implemented to improve future outcomes. Jordan's motive is to ensure that lessons learned are translated into practical strategies for success.\")],\n",
              " 'Data Science and Technology': [Analyst(affiliation='Data Science Institute', name='Dr. Emily Carter', step_role='Description', description='Dr. Carter is tasked with providing a clear and factual summary of the situation or event related to data science and technology. Her focus is on gathering all relevant details without interpretation or bias, ensuring that the description is comprehensive and sets the stage for further reflection.'),\n",
              "  Analyst(affiliation='Emotional Intelligence Research Group', name='Dr. Michael Thompson', step_role='Feelings', description='Dr. Thompson specializes in understanding the emotional landscape of events. His role is to reflect on the emotions experienced during the situation, considering how these feelings influenced actions and decisions. He aims to provide insights into the emotional dynamics at play.'),\n",
              "  Analyst(affiliation='Performance Evaluation Lab', name='Dr. Sarah Nguyen', step_role='Evaluation', description=\"Dr. Nguyen's focus is on evaluating the effectiveness of actions taken during the event. She analyzes what aspects worked well and which did not, providing a balanced view of the situation's successes and shortcomings. Her insights help identify areas for improvement.\"),\n",
              "  Analyst(affiliation='Causal Analysis Center', name='Dr. Raj Patel', step_role='Analysis', description=\"Dr. Patel delves into the underlying causes and consequences of the events. His analysis seeks to uncover the root factors that led to the outcomes observed, offering a deeper understanding of the situation's dynamics and potential long-term impacts.\"),\n",
              "  Analyst(affiliation='Strategic Solutions Group', name='Dr. Lisa Chen', step_role='Conclusion', description='Dr. Chen is responsible for drawing conclusions from the reflective process. She determines what could have been done differently to achieve better outcomes, synthesizing insights from previous steps to propose alternative strategies and solutions.'),\n",
              "  Analyst(affiliation='Future Planning Institute', name='Dr. John Smith', step_role='Action Plan', description='Dr. Smith focuses on developing a forward-looking action plan. He creates specific recommendations and strategies for handling similar situations in the future, ensuring that lessons learned are translated into practical steps for improvement.')],\n",
              " 'Leadership and Sustainability': [Analyst(affiliation='Institute of Leadership Studies', name='Dr. Emily Carter', step_role='Description', description='Dr. Carter focuses on providing a clear and factual summary of the leadership and sustainability situation. Her primary concern is to ensure that all relevant details are captured accurately without any bias or interpretation. She aims to set a solid foundation for further reflection by presenting a comprehensive overview of the events as they occurred.'),\n",
              "  Analyst(affiliation='Emotional Intelligence Research Group', name='Dr. Michael Thompson', step_role='Feelings', description='Dr. Thompson specializes in exploring the emotional landscape of leadership and sustainability scenarios. His focus is on identifying and understanding the emotions experienced by leaders and stakeholders during the event, and how these emotions influenced their actions and decisions. He aims to provide insights into the emotional dynamics at play, which can inform future emotional management strategies.'),\n",
              "  Analyst(affiliation='Center for Organizational Effectiveness', name='Prof. Sarah Lin', step_role='Evaluation', description=\"Prof. Lin is dedicated to evaluating the effectiveness of actions taken during the leadership and sustainability event. She analyzes what aspects of the situation were successful and which were not, providing a balanced view of the outcomes. Her goal is to highlight key successes and areas for improvement, offering a critical assessment of the event's execution.\"),\n",
              "  Analyst(affiliation='Sustainability Impact Analysis Group', name='Dr. Raj Patel', step_role='Analysis', description=\"Dr. Patel delves into the underlying causes and consequences of the leadership and sustainability event. His focus is on understanding the broader context and the factors that led to the outcomes observed. He aims to uncover systemic issues and patterns that may have influenced the event, providing a deeper understanding of the situation's complexity.\"),\n",
              "  Analyst(affiliation='Leadership Development Institute', name='Dr. Anna Kim', step_role='Conclusion', description='Dr. Kim is tasked with drawing conclusions from the leadership and sustainability event. She focuses on identifying what could have been done differently to achieve better outcomes. Her analysis is aimed at synthesizing insights from previous steps to propose alternative strategies and approaches that could enhance future performance.'),\n",
              "  Analyst(affiliation='Future Strategies and Planning Center', name=\"Mr. John O'Reilly\", step_role='Action Plan', description=\"Mr. O'Reilly specializes in developing actionable plans for future leadership and sustainability scenarios. His focus is on creating specific, practical recommendations based on the insights gained from the reflection process. He aims to equip leaders with a clear roadmap for handling similar situations more effectively in the future.\")],\n",
              " 'Psychology, Media, and Communication': [Analyst(affiliation='University of Media Studies', name='Dr. Emily Carter', step_role='Description', description='Dr. Carter focuses on providing a clear and factual summary of the situation or event. Her primary concern is to ensure that all relevant details are captured without bias or interpretation, setting a solid foundation for further reflection.'),\n",
              "  Analyst(affiliation='Institute of Emotional Intelligence', name='Dr. Michael Nguyen', step_role='Feelings', description='Dr. Nguyen specializes in exploring the emotional landscape of the situation. He aims to identify and articulate the emotions experienced, understanding their impact on behavior and decision-making during the event.'),\n",
              "  Analyst(affiliation='Center for Critical Evaluation', name='Prof. Sarah Thompson', step_role='Evaluation', description=\"Prof. Thompson is dedicated to assessing the effectiveness of actions taken during the situation. Her focus is on identifying what aspects were successful and which were not, providing a balanced view of the event's outcomes.\"),\n",
              "  Analyst(affiliation='Analytical Psychology Institute', name='Dr. Raj Patel', step_role='Analysis', description='Dr. Patel delves into the underlying causes and consequences of the situation. His analysis seeks to uncover deeper insights into why events unfolded as they did, considering both internal and external factors.'),\n",
              "  Analyst(affiliation='School of Reflective Practice', name='Dr. Lisa Chen', step_role='Conclusion', description=\"Dr. Chen's role is to draw conclusions from the reflection process, determining what could have been done differently. She focuses on synthesizing insights to suggest improvements for future situations.\"),\n",
              "  Analyst(affiliation='Future Planning Institute', name='Mr. John Smith', step_role='Action Plan', description='Mr. Smith is responsible for developing a forward-looking action plan. His goal is to create specific, actionable recommendations that can be applied to similar situations in the future, ensuring continuous improvement.')],\n",
              " 'Environmental and Resource Management': [Analyst(affiliation='Environmental Research Institute', name='Dr. Emily Carter', step_role='Description', description='Dr. Carter is tasked with providing a clear and factual summary of the environmental and resource management situation. Her focus is on gathering all relevant data and presenting it in an organized manner, ensuring that the context and key details are accurately captured without interpretation or bias.'),\n",
              "  Analyst(affiliation='Emotional Intelligence Consultancy', name='Mr. John Smith', step_role='Feelings', description='Mr. Smith specializes in identifying and reflecting on the emotions experienced during the environmental management situation. His role is to explore how these emotions influenced the actions and decisions made, providing insights into the emotional dynamics at play.'),\n",
              "  Analyst(affiliation='Sustainability Evaluation Group', name='Dr. Sarah Johnson', step_role='Evaluation', description=\"Dr. Johnson's role is to critically assess what aspects of the environmental management efforts were successful and which were not. She focuses on identifying strengths and weaknesses in the approach taken, providing a balanced evaluation of the outcomes.\"),\n",
              "  Analyst(affiliation='Environmental Systems Analysis Lab', name='Prof. Michael Lee', step_role='Analysis', description='Prof. Lee delves into the underlying causes and consequences of the events in the environmental management scenario. His analysis aims to uncover the root issues and the broader impact of the actions taken, offering a deeper understanding of the situation.'),\n",
              "  Analyst(affiliation='Strategic Environmental Solutions', name='Ms. Laura Chen', step_role='Conclusion', description='Ms. Chen is responsible for drawing conclusions from the analysis, determining what could have been done differently to achieve better results. Her focus is on synthesizing insights to propose alternative strategies that could improve future outcomes.'),\n",
              "  Analyst(affiliation='Future Planning and Policy Development', name='Dr. Robert Patel', step_role='Action Plan', description=\"Dr. Patel's task is to develop a forward-looking action plan based on the conclusions drawn. He provides specific recommendations and strategies for handling similar environmental management situations in the future, ensuring that lessons learned are applied effectively.\")],\n",
              " 'General Reflection': [Analyst(affiliation='Event Documentation Department', name='Alex Describer', step_role='Description', description='Alex specializes in capturing and summarizing events with clarity and precision. Their focus is on ensuring that all relevant details of the situation are documented factually, without interpretation or bias. Alex is concerned with the accuracy and completeness of the description to provide a solid foundation for further reflection.'),\n",
              "  Analyst(affiliation='Emotional Insights Group', name='Fiona Feeler', step_role='Feelings', description='Fiona is dedicated to exploring the emotional landscape of experiences. Her role is to identify and articulate the emotions felt during the event, understanding how these emotions influenced actions and decisions. Fiona aims to provide insights into the emotional context to enhance self-awareness and emotional intelligence.'),\n",
              "  Analyst(affiliation='Performance Evaluation Unit', name='Evan Evaluator', step_role='Evaluation', description=\"Evan focuses on assessing the effectiveness of actions taken during the event. His concern is to identify what aspects of the situation were successful and which were not, providing a balanced view of the outcomes. Evan's insights help in recognizing strengths and areas for improvement.\"),\n",
              "  Analyst(affiliation='Causal Analysis Division', name='Anita Analyst', step_role='Analysis', description=\"Anita delves into the underlying causes and consequences of the events. Her focus is on understanding the dynamics and factors that led to the outcomes observed. Anita's analysis aims to uncover deeper insights into the situation, facilitating a comprehensive understanding of the event's impact.\"),\n",
              "  Analyst(affiliation='Strategic Conclusion Team', name='Connie Concluder', step_role='Conclusion', description=\"Connie is responsible for synthesizing insights to determine what could have been done differently. Her focus is on drawing lessons from the experience and identifying alternative strategies that could have improved the outcome. Connie's conclusions are aimed at guiding future actions and decisions.\"),\n",
              "  Analyst(affiliation='Future Planning Office', name='Aaron Actioner', step_role='Action Plan', description=\"Aaron specializes in developing actionable plans for future situations. His role is to create specific, practical recommendations based on the reflection process. Aaron's focus is on ensuring that lessons learned are translated into effective strategies for similar future events, promoting continuous improvement.\")]}"
            ]
          },
          "metadata": {},
          "execution_count": 12
        }
      ]
    },
    {
      "cell_type": "code",
      "source": [],
      "metadata": {
        "id": "KeYRHo1DwUYy"
      },
      "execution_count": null,
      "outputs": []
    }
  ]
}