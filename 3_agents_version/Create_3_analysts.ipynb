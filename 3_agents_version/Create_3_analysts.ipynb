{
  "cells": [
    {
      "cell_type": "markdown",
      "metadata": {
        "id": "view-in-github",
        "colab_type": "text"
      },
      "source": [
        "<a href=\"https://colab.research.google.com/github/Jinqiao-Li/multi_agent_reflection/blob/compacted_three_agents/3_agents_version/Create_3_analysts.ipynb\" target=\"_parent\"><img src=\"https://colab.research.google.com/assets/colab-badge.svg\" alt=\"Open In Colab\"/></a>"
      ]
    },
    {
      "cell_type": "markdown",
      "metadata": {
        "id": "XnpDL06ErwGQ"
      },
      "source": [
        "\n",
        "*   Author: Jinqiao Li\n",
        "*   Date: 15.04.2025\n",
        "\n",
        "--------------------------------\n",
        "\n",
        "*   Middle agents (analysts) number: **3**\n",
        "*   Reasoning in the middle (judgements): **Yes/No**\n",
        "*   Time (for one refllection text): around **2-5s**\n",
        "*   f1 score: ...\n",
        "\n",
        "Parameters:\n",
        "*   Model: gpt-4.1-mini\n",
        "*   topic for analysts group: No\n",
        "*   default *course_name*: Independent Study\n",
        "*   default *topic* value: General Reflection\n",
        "\n"
      ]
    },
    {
      "cell_type": "markdown",
      "metadata": {
        "id": "FLQH8KTUQkLo"
      },
      "source": [
        "# Setting Environment"
      ]
    },
    {
      "cell_type": "code",
      "execution_count": 1,
      "metadata": {
        "id": "HKpVYtunQjiq"
      },
      "outputs": [],
      "source": [
        "%%capture --no-stderr\n",
        "%pip install -U langchain_openai langgraph"
      ]
    },
    {
      "cell_type": "code",
      "execution_count": 2,
      "metadata": {
        "id": "gDIlEjqCQdsB"
      },
      "outputs": [],
      "source": [
        "import os, getpass\n",
        "from google.colab import userdata\n",
        "from langchain_openai import ChatOpenAI\n",
        "from langchain_core.messages import AIMessage, HumanMessage, SystemMessage\n",
        "import operator\n",
        "from typing import List, Annotated, Dict\n",
        "from typing_extensions import TypedDict\n",
        "from pydantic import BaseModel, Field\n",
        "import pickle\n",
        "from langgraph.constants import Send\n",
        "import json\n",
        "from typing import Dict, Any\n",
        "from IPython.display import Image\n",
        "from langgraph.graph import END, StateGraph, START\n",
        "import warnings\n"
      ]
    },
    {
      "cell_type": "code",
      "execution_count": 3,
      "metadata": {
        "id": "EJV8anz3RCrt"
      },
      "outputs": [],
      "source": [
        "# Ignore the specific Pydantic warning\n",
        "warnings.filterwarnings(\"ignore\", category=DeprecationWarning, module=\"pydantic\")\n",
        "\n",
        "\n",
        "os.environ['OPENAI_API_KEY'] = userdata.get('OPENAI_API_KEY')\n",
        "os.environ[\"LANGCHAIN_TRACING_V2\"] = \"true\"\n",
        "os.environ[\"LANGCHAIN_PROJECT\"] = \"langchain-academy\"\n",
        "os.environ['LANGCHAIN_API_KEY'] = userdata.get('LANGCHAIN_API_KEY')\n",
        "\n",
        "# LLM\n",
        "llm = ChatOpenAI(model=\"gpt-4.1-mini\", temperature=0)"
      ]
    },
    {
      "cell_type": "markdown",
      "source": [
        "## Prompts with middle reasoning\n",
        "\n",
        "Analysts give both grades and judgements for each dimension.\n"
      ],
      "metadata": {
        "id": "dqkBRzM13hJp"
      }
    },
    {
      "cell_type": "code",
      "execution_count": 4,
      "metadata": {
        "id": "yXF7NR_ERY3u"
      },
      "outputs": [],
      "source": [
        "# import prompts used for judgements and final feedback generation\n",
        "from analysts_judgements_instruction import judgement_instruction\n",
        "from final_feedback_instrction import final_feedback_instruction"
      ]
    },
    {
      "cell_type": "markdown",
      "source": [
        "## Testing prompts without middle reasoning.\n",
        "\n",
        "Analysts only give grade for each dimension, no judgements."
      ],
      "metadata": {
        "id": "I9y6OUFb3YJs"
      }
    },
    {
      "cell_type": "code",
      "source": [
        "from analysts_no_judgements import judgement_instruction\n",
        "from final_feedback_instrction import final_feedback_instruction"
      ],
      "metadata": {
        "id": "ngU0VrZ33Uay"
      },
      "execution_count": 4,
      "outputs": []
    },
    {
      "cell_type": "markdown",
      "metadata": {
        "id": "MfaUEfBtRQVN"
      },
      "source": [
        "# Module Structure"
      ]
    },
    {
      "cell_type": "code",
      "execution_count": 5,
      "metadata": {
        "id": "B3ndRK1-RFIS"
      },
      "outputs": [],
      "source": [
        "\n",
        "class Analyst(BaseModel):\n",
        "    affiliation: str = Field(\n",
        "        description=\"Primary affiliation of the analyst.\",\n",
        "    )\n",
        "    name: str = Field(\n",
        "        description=\"Name of the analyst.\"\n",
        "    )\n",
        "    step_role: str = Field(\n",
        "        description=\"Specific step of Gibbs’ Cycle assigned to the analyst\",\n",
        "    )\n",
        "    description: str = Field(\n",
        "        description=\"Description of the analyst focus, concerns, and motives.\",\n",
        "    )\n",
        "    @property\n",
        "    def persona(self) -> str:\n",
        "        return f\"Name: {self.name}\\nRole: {self.step_role}\\nAffiliation: {self.affiliation}\\nDescription: {self.description}\\n\"\n",
        "\n",
        "class Perspectives(BaseModel):\n",
        "    analysts: List[Analyst] = Field(\n",
        "        description=\"Comprehensive list of analysts with their roles and affiliations.\",\n",
        "    )\n",
        "\n",
        "class FinalFeedback(BaseModel):\n",
        "    is_reflection:int\n",
        "    grades: Dict[str, int] = Field(..., description=\"Grades for each step of Gibbs' Cycle.\")\n",
        "    feedback: str = Field(..., description=\"Overall feedback on the reflection.\")\n",
        "\n",
        "class OverallState(TypedDict):\n",
        "    topic: str\n",
        "    reflection_input:str\n",
        "    question:str\n",
        "    course_name:str\n",
        "    analysts: List[Analyst] # Analyst asking questions\n",
        "    judgements: Annotated[list, operator.add]\n",
        "    final_summarized_output: str\n",
        "\n",
        "\n",
        "class JudgementState(TypedDict):\n",
        "    analyst:Analyst\n",
        "    course_name: str = Field(..., description=\"Name of the course relevant to the reflection.\")\n",
        "    question: str = Field(..., description=\"The specific question prompting the reflection.\")\n",
        "    reflection_input: str\n",
        "\n",
        "class Judgement(BaseModel):\n",
        "    judgement: str = Field(None, description=\"Detailed feedback for the step.\")\n",
        "\n"
      ]
    },
    {
      "cell_type": "code",
      "execution_count": 12,
      "metadata": {
        "id": "eu5HDmNGRZAX"
      },
      "outputs": [],
      "source": [
        "\n",
        "def get_analysts(state: OverallState):\n",
        "\n",
        "    topic=state[\"topic\"]\n",
        "    with open('three_analyst_values.pickle', 'rb') as file:\n",
        "      analysts = pickle.load(file)\n",
        "\n",
        "    #analysts = loaded_dict[topic]\n",
        "    # Write the list of analysis to state\n",
        "    return {\"analysts\": analysts}\n",
        "\n",
        "\n",
        "def continue_to_judgements(state: OverallState):\n",
        "    return [Send(\"generate_judgement\", {\"analyst\": a,\n",
        "                                        \"reflection_input\": state[\"reflection_input\"],\n",
        "                                        \"question\":state[\"question\"],\n",
        "                                        \"course_name\":state[\"course_name\"],\n",
        "                                        }) for a in state[\"analysts\"]]\n",
        "\n",
        "\n",
        "def generate_judgement(state: JudgementState):\n",
        "    # Get state\n",
        "    analyst = state[\"analyst\"]\n",
        "    course_name = state[\"course_name\"]\n",
        "    question = state[\"question\"]\n",
        "    reflection_input = state[\"reflection_input\"]\n",
        "\n",
        "    # Generate judgement for specific reflection text\n",
        "    system_message = judgement_instruction.format(persona=analyst.persona,\n",
        "                                                   step_role=analyst.step_role,\n",
        "                                                   course_name=course_name,\n",
        "                                                   question=question,\n",
        "                                                   reflection_input=reflection_input)\n",
        "    structured_llm = llm.with_structured_output(Judgement)\n",
        "    response = structured_llm.invoke([SystemMessage(content=system_message),\n",
        "                                                             HumanMessage(content=reflection_input)])\n",
        "    return {\"judgements\": [response.judgement]}\n",
        "\n",
        "\n",
        "def final_feedback(state: OverallState):\n",
        "\n",
        "    judgements = \"\\n\\n\".join(state[\"judgements\"])\n",
        "    prompt = final_feedback_instruction.format(topic=state[\"topic\"],\n",
        "                                               reflection_input=state['reflection_input'],\n",
        "                                               analysts_judgments=judgements,\n",
        "                                               course_name=state[\"course_name\"],\n",
        "                                               question=state[\"question\"],)\n",
        "    response = llm.with_structured_output(FinalFeedback, method=\"json_mode\").invoke(prompt)\n",
        "    return {\"final_summarized_output\": [response.model_dump()]}"
      ]
    },
    {
      "cell_type": "code",
      "execution_count": 13,
      "metadata": {
        "colab": {
          "base_uri": "https://localhost:8080/",
          "height": 449
        },
        "id": "Iz_RhJJ1RY5m",
        "outputId": "0acb88a6-1856-4fa2-9282-d20779ab807b"
      },
      "outputs": [
        {
          "output_type": "execute_result",
          "data": {
            "image/png": "[encoded data removed]",
            "text/plain": [
              "<IPython.core.display.Image object>"
            ]
          },
          "metadata": {},
          "execution_count": 13
        }
      ],
      "source": [
        "# Construct the graph: here we put everything together to construct our graph\n",
        "graph = StateGraph(OverallState)\n",
        "graph.add_node(\"create_analysts\", get_analysts)\n",
        "graph.add_node(\"generate_judgement\", generate_judgement)\n",
        "graph.add_node(\"final_feedback\", final_feedback)\n",
        "graph.add_edge(START, \"create_analysts\")\n",
        "graph.add_conditional_edges(\"create_analysts\", continue_to_judgements, [\"generate_judgement\"])\n",
        "graph.add_edge(\"generate_judgement\", \"final_feedback\")\n",
        "graph.add_edge(\"final_feedback\", END)\n",
        "\n",
        "# Compile the graph\n",
        "app = graph.compile()\n",
        "Image(app.get_graph().draw_mermaid_png())"
      ]
    },
    {
      "cell_type": "code",
      "execution_count": 14,
      "metadata": {
        "id": "IokEn7JVn4Hd"
      },
      "outputs": [],
      "source": [
        "# this topic term \"General Reflection\" already saved in the analyst pickle file\n",
        "def analyze_reflection(topic=\"General Reflection\", reflection_input=None, course_name=\"Independent Study\", question=None):\n",
        "    generated_messages = []\n",
        "    for s in app.stream({\"topic\": topic,\n",
        "                         \"reflection_input\": reflection_input,\n",
        "                         \"course_name\": course_name,\n",
        "                         \"question\": question\n",
        "                        }):\n",
        "        generated_messages.append(s)\n",
        "    result = generated_messages[-1].get('final_feedback').get('final_summarized_output')[0]\n",
        "    return result"
      ]
    },
    {
      "cell_type": "markdown",
      "metadata": {
        "id": "zAEO2vmMnS1h"
      },
      "source": [
        "# Testing on One example"
      ]
    },
    {
      "cell_type": "code",
      "execution_count": 15,
      "metadata": {
        "id": "4Hudy8ZDRY1D"
      },
      "outputs": [],
      "source": [
        "import pandas as pd\n",
        "\n",
        "path = '/content/drive/MyDrive/BFH/rflect/data/gold_standard/scaled_50/gold_50_major_voting.xlsx'\n",
        "df_50 = pd.read_excel(path)"
      ]
    },
    {
      "cell_type": "code",
      "execution_count": 16,
      "metadata": {
        "colab": {
          "base_uri": "https://localhost:8080/",
          "height": 38
        },
        "id": "QLSWQcOCrN7n",
        "outputId": "c55b100c-de5c-43bc-c11c-20d8e64f2c85"
      },
      "outputs": [
        {
          "output_type": "execute_result",
          "data": {
            "text/plain": [
              "'I did a lot of individual work including extra work and completed my studies very well for this week.'"
            ],
            "application/vnd.google.colaboratory.intrinsic+json": {
              "type": "string"
            }
          },
          "metadata": {},
          "execution_count": 16
        }
      ],
      "source": [
        "df_50.iloc[0]['Text']"
      ]
    },
    {
      "cell_type": "code",
      "execution_count": 17,
      "metadata": {
        "colab": {
          "base_uri": "https://localhost:8080/"
        },
        "id": "QlWfY884nWUz",
        "outputId": "24f001e4-0a46-45ff-86fa-ca31f0d2b290"
      },
      "outputs": [
        {
          "output_type": "execute_result",
          "data": {
            "text/plain": [
              "{'is_reflection': 0,\n",
              " 'grades': {'Experience': 0, 'Analysis': 0, 'Action': 0},\n",
              " 'feedback': 'Your response does not seem to be a reflection. Try describing an experience, explaining how it affected you, and what lessons you took from it. Reflect on your feelings during the process and consider what you might do differently next time to deepen your learning.'}"
            ]
          },
          "metadata": {},
          "execution_count": 17
        }
      ],
      "source": [
        "\n",
        "analyze_reflection(reflection_input=df_50.iloc[0]['Text'], question=df_50.iloc[0]['Question'])"
      ]
    },
    {
      "cell_type": "markdown",
      "source": [
        "# Testing on 50 dataset\n"
      ],
      "metadata": {
        "id": "dXiD50IDhQmV"
      }
    },
    {
      "cell_type": "code",
      "execution_count": 18,
      "metadata": {
        "id": "JkhrwWStnOsM"
      },
      "outputs": [],
      "source": [
        "df_50['results_41mini'] = df_50.apply(lambda row:analyze_reflection(\n",
        "                                                   reflection_input=row['Text'], question=row['Question']), axis=1)\n"
      ]
    },
    {
      "cell_type": "markdown",
      "metadata": {
        "id": "s9COIlZoxrSG"
      },
      "source": [
        "# post-processing"
      ]
    },
    {
      "cell_type": "code",
      "execution_count": 19,
      "metadata": {
        "id": "8V-AlfXpxkpi"
      },
      "outputs": [],
      "source": [
        "df_results_41mini = pd.DataFrame(columns=['is_reflection', 'Experience', 'Analysis', 'Action', 'feedback'])\n",
        "# Parse the results and populate the new dataframe\n",
        "for index, row in df_50.iterrows():\n",
        "    result = row['results_41mini']\n",
        "    grades = result.get('grades', {})  # Handle missing grades gracefully\n",
        "    new_row = {\n",
        "        'is_reflection': result.get('is_reflection'),\n",
        "        'Experience': grades.get('Experience'),\n",
        "        'Analysis': grades.get('Analysis'),\n",
        "        'Action': grades.get('Action'),\n",
        "        'feedback': result.get('feedback')\n",
        "    }\n",
        "    df_results_41mini = pd.concat([df_results_41mini, pd.DataFrame([new_row])], ignore_index=True)"
      ]
    },
    {
      "cell_type": "code",
      "execution_count": 20,
      "metadata": {
        "id": "VvgV-cxyxqiv"
      },
      "outputs": [],
      "source": [
        "path = '/content/drive/MyDrive/BFH/rflect/data/3_agent_model_results/results_41mini_no_judgements.xlsx'\n",
        "df_results_41mini.to_excel(path, index=False)"
      ]
    },
    {
      "cell_type": "markdown",
      "source": [
        "# Accuracy\n",
        "\n",
        "This is the data labelled by 4 people."
      ],
      "metadata": {
        "id": "iF2bIVVImrG3"
      }
    },
    {
      "cell_type": "code",
      "source": [
        "\n",
        "path = '/content/drive/MyDrive/BFH/rflect/data/gold_standard/scaled_50/gold_50_major_voting_dimension3.xlsx'\n",
        "gold_df_d3 = pd.read_excel(path)"
      ],
      "metadata": {
        "id": "2gGET0190E61"
      },
      "execution_count": 21,
      "outputs": []
    },
    {
      "cell_type": "code",
      "source": [
        "\n",
        "from sklearn.metrics import accuracy_score, f1_score, recall_score\n",
        "\n",
        "\n",
        "\n",
        "# Define the columns to evaluate\n",
        "columns_to_evaluate = ['is_reflection', 'Experience', 'Analysis', 'Action']\n",
        "\n",
        "# Calculate metrics for each column\n",
        "for column in columns_to_evaluate:\n",
        "    gold_values = gold_df_d3[column].astype(int)\n",
        "    predicted_values = df_results_41mini[column].astype(int)\n",
        "\n",
        "    # Accuracy\n",
        "    accuracy = accuracy_score(gold_values, predicted_values)\n",
        "    print(f\"Accuracy for {column}: {accuracy}\")\n",
        "\n",
        "    # F1 Score (assuming binary classification)\n",
        "    f1 = f1_score(gold_values, predicted_values)\n",
        "    print(f\"F1 Score for {column}: {f1}\")\n",
        "\n",
        "    # Recall\n",
        "    recall = recall_score(gold_values, predicted_values)\n",
        "    print(f\"Recall for {column}: {recall}\")\n",
        "    print(\"-\" * 20)  # Separator for better readability"
      ],
      "metadata": {
        "colab": {
          "base_uri": "https://localhost:8080/"
        },
        "id": "8M0-gMRYrIaq",
        "outputId": "685ebf70-99a2-461b-860d-dc8e865b25cb"
      },
      "execution_count": 22,
      "outputs": [
        {
          "output_type": "stream",
          "name": "stdout",
          "text": [
            "Accuracy for is_reflection: 0.94\n",
            "F1 Score for is_reflection: 0.9629629629629629\n",
            "Recall for is_reflection: 0.975\n",
            "--------------------\n",
            "Accuracy for Experience: 0.66\n",
            "F1 Score for Experience: 0.6792452830188679\n",
            "Recall for Experience: 0.6666666666666666\n",
            "--------------------\n",
            "Accuracy for Analysis: 0.68\n",
            "F1 Score for Analysis: 0.2727272727272727\n",
            "Recall for Analysis: 0.15789473684210525\n",
            "--------------------\n",
            "Accuracy for Action: 0.86\n",
            "F1 Score for Action: 0.631578947368421\n",
            "Recall for Action: 0.6666666666666666\n",
            "--------------------\n"
          ]
        }
      ]
    },
    {
      "cell_type": "code",
      "source": [],
      "metadata": {
        "id": "YH98nMoYrI-G"
      },
      "execution_count": 29,
      "outputs": []
    },
    {
      "cell_type": "markdown",
      "source": [
        "# Creating gold data in 3 dimensions"
      ],
      "metadata": {
        "id": "8kSULHml0iB0"
      }
    },
    {
      "cell_type": "code",
      "execution_count": 28,
      "metadata": {
        "id": "Zv4JPk1Yxqgg"
      },
      "outputs": [],
      "source": [
        "gold_data = '/content/drive/MyDrive/BFH/rflect/data/gold_standard/scaled_50/gold_50_major_voting.xlsx'\n",
        "gold_df = pd.read_excel(gold_data)"
      ]
    },
    {
      "cell_type": "code",
      "execution_count": 20,
      "metadata": {
        "id": "gtknRtqdxqfp"
      },
      "outputs": [],
      "source": [
        "\n",
        "gold_df_d3 = pd.DataFrame(columns=['is_reflection', 'Experience', 'Analysis', 'Action'])\n",
        "\n",
        "\n",
        "gold_df_d3['is_reflection'] = gold_df['is_reflection']\n",
        "gold_df_d3['Experience'] = ((gold_df['Description']==1) | (gold_df['Feelings']==1)).astype(int)\n",
        "gold_df_d3['Analysis'] = ((gold_df['Evaluation']==1) | (gold_df['Analysis']==1)).astype(int)\n",
        "gold_df_d3['Action'] = ((gold_df['Conclusion']==1) | (gold_df['Action plan']==1)).astype(int)"
      ]
    },
    {
      "cell_type": "code",
      "source": [
        "\n",
        "path = '/content/drive/MyDrive/BFH/rflect/data/gold_standard/scaled_50/gold_50_major_voting_dimension3.xlsx'\n",
        "gold_df_d3.to_excel(path, index=False)"
      ],
      "metadata": {
        "id": "SEkQOsAwnPs_"
      },
      "execution_count": 29,
      "outputs": []
    },
    {
      "cell_type": "markdown",
      "source": [
        "# New"
      ],
      "metadata": {
        "id": "WHnPzIwL0md6"
      }
    },
    {
      "cell_type": "code",
      "source": [],
      "metadata": {
        "id": "ur1uIDDb0lu_"
      },
      "execution_count": null,
      "outputs": []
    }
  ],
  "metadata": {
    "colab": {
      "provenance": [],
      "collapsed_sections": [
        "8kSULHml0iB0"
      ],
      "mount_file_id": "1vA_LSrT9kNowElOAF_DpKXNvPwVHsfXn",
      "authorship_tag": "ABX9TyO9daGNPJNiusyyFLef3Iwi",
      "include_colab_link": true
    },
    "kernelspec": {
      "display_name": "Python 3",
      "name": "python3"
    },
    "language_info": {
      "name": "python"
    }
  },
  "nbformat": 4,
  "nbformat_minor": 0
}