{
  "nbformat": 4,
  "nbformat_minor": 0,
  "metadata": {
    "colab": {
      "provenance": [],
      "authorship_tag": "ABX9TyN4p+0bm5NipD/dWfJ1jz1C",
      "include_colab_link": true
    },
    "kernelspec": {
      "name": "python3",
      "display_name": "Python 3"
    },
    "language_info": {
      "name": "python"
    }
  },
  "cells": [
    {
      "cell_type": "markdown",
      "metadata": {
        "id": "view-in-github",
        "colab_type": "text"
      },
      "source": [
        "<a href=\"https://colab.research.google.com/github/Jinqiao-Li/multi_agent_reflection/blob/compacted_three_agents/3_agents_version/Create_3_analysts.ipynb\" target=\"_parent\"><img src=\"https://colab.research.google.com/assets/colab-badge.svg\" alt=\"Open In Colab\"/></a>"
      ]
    },
    {
      "cell_type": "code",
      "execution_count": 1,
      "metadata": {
        "id": "tgRUaZy8wJ70"
      },
      "outputs": [],
      "source": [
        "%%capture --no-stderr\n",
        "%pip install -U langchain_openai langgraph"
      ]
    },
    {
      "cell_type": "code",
      "source": [
        "import os, getpass\n",
        "from google.colab import userdata\n",
        "\n",
        "os.environ['OPENAI_API_KEY'] = userdata.get('OPENAI_API_KEY')\n",
        "os.environ[\"LANGCHAIN_TRACING_V2\"] = \"true\"\n",
        "os.environ[\"LANGCHAIN_PROJECT\"] = \"langchain-academy\"\n",
        "os.environ['LANGCHAIN_API_KEY'] = userdata.get('LANGCHAIN_API_KEY')\n"
      ],
      "metadata": {
        "id": "aLVjlrmRwTxY"
      },
      "execution_count": 2,
      "outputs": []
    },
    {
      "cell_type": "code",
      "source": [
        "from langchain_openai import ChatOpenAI\n",
        "from langchain_core.messages import AIMessage, HumanMessage, SystemMessage\n",
        "\n",
        "# LLM\n",
        "llm = ChatOpenAI(model=\"gpt-4o\", temperature=0)"
      ],
      "metadata": {
        "id": "lHmpfyAGwUj-"
      },
      "execution_count": 3,
      "outputs": []
    },
    {
      "cell_type": "code",
      "source": [
        "analyst_instructions = \"\"\"\n",
        "Your task is to define three AI analyst personas, each assigned to two steps of Gibbs’ Reflective Cycle. These personas will be returned as a list of `Analyst` objects, to populate the `analysts` field of a `Perspectives` model.\n",
        "\n",
        "0. Understand Gibbs’ Reflective Cycle:\n",
        "Gibbs’ model includes six stages for structured reflection:\n",
        "   - Step 1: Description – What happened? Describe the situation factually and clearly.\n",
        "   - Step 2: Feelings – What were you thinking and feeling? Reflect on emotions and their influence.\n",
        "   - Step 3: Evaluation – What was good or bad about the experience? Assess outcomes.\n",
        "   - Step 4: Analysis – Why did things happen as they did? Explore causes and perspectives.\n",
        "   - Step 5: Conclusion – What else could you have done? Identify lessons and alternate choices.\n",
        "   - Step 6: Action Plan – If it happened again, what would you do? Define concrete future strategies.\n",
        "\n",
        "1. Create three distinct analyst personas, each responsible for two specific steps:\n",
        "   - **Analyst 1 – Experience Specialist**\n",
        "     - `step_role`: \"Description, Feelings\"\n",
        "     - Focus: Capturing detailed events and emotional context.\n",
        "     - Style: Empathetic, curious, grounded.\n",
        "\n",
        "   - **Analyst 2 – Analytical Thinker**\n",
        "     - `step_role`: \"Evaluation, Analysis\"\n",
        "     - Focus: Critically assessing outcomes and understanding causes.\n",
        "     - Style: Objective, reflective, systems-minded.\n",
        "\n",
        "   - **Analyst 3 – Growth Strategist**\n",
        "     - `step_role`: \"Conclusion, Action Plan\"\n",
        "     - Focus: Synthesizing insights and creating forward-focused strategies.\n",
        "     - Style: Constructive, optimistic, practical.\n",
        "\n",
        "2. For each `Analyst` object, provide the following:\n",
        "   - `name`: A distinct and fitting name for the analyst.\n",
        "   - `affiliation`: A short phrase representing their mindset, background, or domain.\n",
        "   - `step_role`: The assigned pair of steps from Gibbs’ Cycle.\n",
        "   - `description`: A short but vivid persona summary, describing the analyst’s reflective style, concerns, and motives.\n",
        "\n",
        "3. Return the list of analysts as the `analysts` field of a `Perspectives` object. Do not include any explanation or prose—just the structured output.\n",
        "\"\"\""
      ],
      "metadata": {
        "id": "ZxYsj7PZwUg_"
      },
      "execution_count": 4,
      "outputs": []
    },
    {
      "cell_type": "code",
      "source": [
        "import operator\n",
        "from typing import List, Annotated\n",
        "from typing_extensions import TypedDict\n",
        "from pydantic import BaseModel, Field\n",
        "\n",
        "class Analyst(BaseModel):\n",
        "    affiliation: str = Field(\n",
        "        description=\"Primary affiliation of the analyst.\",\n",
        "    )\n",
        "    name: str = Field(\n",
        "        description=\"Name of the analyst.\"\n",
        "    )\n",
        "    step_role: str = Field(\n",
        "        description=\"Specific step of Gibbs’ Cycle assigned to the analyst\",\n",
        "    )\n",
        "    description: str = Field(\n",
        "        description=\"Description of the analyst focus, concerns, and motives.\",\n",
        "    )\n",
        "    @property\n",
        "    def persona(self) -> str:\n",
        "        return f\"Name: {self.name}\\nRole: {self.role}\\nAffiliation: {self.affiliation}\\nDescription: {self.description}\\n\"\n",
        "\n",
        "class Perspectives(BaseModel):\n",
        "    analysts: List[Analyst] = Field(\n",
        "        description=\"Comprehensive list of analysts with their roles and affiliations.\",\n",
        "    )\n",
        "class FinalFeedback(BaseModel):\n",
        "    feedback: str\n",
        "\n",
        "class OverallState(TypedDict):\n",
        "\n",
        "    reflection_input:str\n",
        "    question:str\n",
        "    course_name:str\n",
        "    analysts: List[Analyst] # Analyst asking questions\n",
        "    judgements: Annotated[list, operator.add]\n",
        "    final_summarized_output: str\n"
      ],
      "metadata": {
        "id": "DCsIlgfuwUeT"
      },
      "execution_count": 5,
      "outputs": []
    },
    {
      "cell_type": "code",
      "source": [
        "def create_analysts(state: OverallState):\n",
        "\n",
        "    \"\"\" Create analysts \"\"\"\n",
        "    # Enforce structured output\n",
        "    structured_llm = llm.with_structured_output(Perspectives)\n",
        "\n",
        "    # System message\n",
        "    system_message = analyst_instructions.format()\n",
        "\n",
        "    # Generate question\n",
        "    analysts = structured_llm.invoke([SystemMessage(content=system_message)]+[HumanMessage(content=\"Generate the set of analysts.\")])\n",
        "\n",
        "    # Write the list of analysis to state\n",
        "    return {\"analysts\": analysts.analysts}"
      ],
      "metadata": {
        "id": "AwnbgWD6wUbu"
      },
      "execution_count": 6,
      "outputs": []
    },
    {
      "cell_type": "code",
      "source": [
        "from IPython.display import Image\n",
        "from langgraph.graph import END, StateGraph, START\n",
        "\n",
        "# Construct the graph: here we put everything together to construct our graph\n",
        "graph = StateGraph(OverallState)\n",
        "graph.add_node(\"create_analysts\", create_analysts)\n",
        "\n",
        "graph.add_edge(START, \"create_analysts\")\n",
        "\n",
        "graph.add_edge(\"create_analysts\", END)\n",
        "\n",
        "# Compile the graph\n",
        "app = graph.compile()\n",
        "Image(app.get_graph().draw_mermaid_png())"
      ],
      "metadata": {
        "id": "tMbS7DEhxO-V"
      },
      "execution_count": null,
      "outputs": []
    },
    {
      "cell_type": "markdown",
      "source": [
        "# Creat analysts"
      ],
      "metadata": {
        "id": "xYDiDbci5gGk"
      }
    },
    {
      "cell_type": "code",
      "source": [
        "\n",
        "analysts_value = []\n",
        "initial_state = {}  # Provide an initial state, potentially empty\n",
        "for s in app.stream(initial_state):\n",
        "    print(s.get('create_analysts').get('analysts'))\n",
        "    analysts_value = s.get('create_analysts').get('analysts')\n",
        "\n",
        "analysts_value"
      ],
      "metadata": {
        "colab": {
          "base_uri": "https://localhost:8080/"
        },
        "id": "vPrzQCRIx7Py",
        "outputId": "8b858f1b-9f51-47b1-c248-902df4024a83"
      },
      "execution_count": 9,
      "outputs": [
        {
          "output_type": "stream",
          "name": "stdout",
          "text": [
            "[Analyst(affiliation='Empathy and Observation', name='Alexandra Insight', step_role='Description, Feelings', description='Alexandra Insight is dedicated to capturing the essence of experiences with a keen eye for detail and a heart attuned to emotional nuances. Her empathetic and curious nature allows her to delve deeply into the factual recounting of events while understanding the emotional landscape that accompanies them. Grounded in her approach, she ensures that every aspect of the situation is comprehensively documented and felt.'), Analyst(affiliation='Critical Evaluation and Systems Analysis', name='Jordan Logic', step_role='Evaluation, Analysis', description=\"Jordan Logic excels in dissecting experiences to evaluate their outcomes critically and understand the underlying causes. With an objective and reflective mindset, Jordan approaches each situation with a systems-minded perspective, seeking to uncover the intricate web of factors that influence results. His analytical prowess ensures a thorough assessment of what worked and what didn't, paving the way for deeper insights.\"), Analyst(affiliation='Strategic Growth and Future Planning', name='Taylor Progress', step_role='Conclusion, Action Plan', description='Taylor Progress is focused on transforming insights into actionable strategies for future growth. With a constructive and optimistic outlook, Taylor synthesizes lessons learned to identify alternative approaches and develop practical plans for improvement. Her pragmatic style ensures that reflections lead to tangible steps forward, fostering continuous development and readiness for future challenges.')]\n"
          ]
        },
        {
          "output_type": "execute_result",
          "data": {
            "text/plain": [
              "[Analyst(affiliation='Empathy and Observation', name='Alexandra Insight', step_role='Description, Feelings', description='Alexandra Insight is dedicated to capturing the essence of experiences with a keen eye for detail and a heart attuned to emotional nuances. Her empathetic and curious nature allows her to delve deeply into the factual recounting of events while understanding the emotional landscape that accompanies them. Grounded in her approach, she ensures that every aspect of the situation is comprehensively documented and felt.'),\n",
              " Analyst(affiliation='Critical Evaluation and Systems Analysis', name='Jordan Logic', step_role='Evaluation, Analysis', description=\"Jordan Logic excels in dissecting experiences to evaluate their outcomes critically and understand the underlying causes. With an objective and reflective mindset, Jordan approaches each situation with a systems-minded perspective, seeking to uncover the intricate web of factors that influence results. His analytical prowess ensures a thorough assessment of what worked and what didn't, paving the way for deeper insights.\"),\n",
              " Analyst(affiliation='Strategic Growth and Future Planning', name='Taylor Progress', step_role='Conclusion, Action Plan', description='Taylor Progress is focused on transforming insights into actionable strategies for future growth. With a constructive and optimistic outlook, Taylor synthesizes lessons learned to identify alternative approaches and develop practical plans for improvement. Her pragmatic style ensures that reflections lead to tangible steps forward, fostering continuous development and readiness for future challenges.')]"
            ]
          },
          "metadata": {},
          "execution_count": 9
        }
      ]
    },
    {
      "cell_type": "code",
      "source": [
        "analysts_value"
      ],
      "metadata": {
        "colab": {
          "base_uri": "https://localhost:8080/"
        },
        "id": "_U0HjqRKoZaX",
        "outputId": "e75b9dac-9527-4616-8f1e-d92e33dd4350"
      },
      "execution_count": 10,
      "outputs": [
        {
          "output_type": "execute_result",
          "data": {
            "text/plain": [
              "[Analyst(affiliation='Empathy and Observation', name='Alexandra Insight', step_role='Description, Feelings', description='Alexandra Insight is dedicated to capturing the essence of experiences with a keen eye for detail and a heart attuned to emotional nuances. Her empathetic and curious nature allows her to delve deeply into the factual recounting of events while understanding the emotional landscape that accompanies them. Grounded in her approach, she ensures that every aspect of the situation is comprehensively documented and felt.'),\n",
              " Analyst(affiliation='Critical Evaluation and Systems Analysis', name='Jordan Logic', step_role='Evaluation, Analysis', description=\"Jordan Logic excels in dissecting experiences to evaluate their outcomes critically and understand the underlying causes. With an objective and reflective mindset, Jordan approaches each situation with a systems-minded perspective, seeking to uncover the intricate web of factors that influence results. His analytical prowess ensures a thorough assessment of what worked and what didn't, paving the way for deeper insights.\"),\n",
              " Analyst(affiliation='Strategic Growth and Future Planning', name='Taylor Progress', step_role='Conclusion, Action Plan', description='Taylor Progress is focused on transforming insights into actionable strategies for future growth. With a constructive and optimistic outlook, Taylor synthesizes lessons learned to identify alternative approaches and develop practical plans for improvement. Her pragmatic style ensures that reflections lead to tangible steps forward, fostering continuous development and readiness for future challenges.')]"
            ]
          },
          "metadata": {},
          "execution_count": 10
        }
      ]
    },
    {
      "cell_type": "markdown",
      "source": [
        "# Save created analysts into local file"
      ],
      "metadata": {
        "id": "nuI2wSgp5nRN"
      }
    },
    {
      "cell_type": "code",
      "source": [
        "import pickle\n",
        "\n",
        "# Save the dictionary to a file\n",
        "with open('three_analyst_values.pickle', 'wb') as file:\n",
        "    pickle.dump(analysts_value, file)\n",
        "\n",
        "print(\"Dictionary saved to three_analyst_values.pickle\")"
      ],
      "metadata": {
        "colab": {
          "base_uri": "https://localhost:8080/"
        },
        "id": "X_SE6uZDxO5E",
        "outputId": "72ba860d-e2c8-4dfb-a71b-b73f3ed3886f"
      },
      "execution_count": 11,
      "outputs": [
        {
          "output_type": "stream",
          "name": "stdout",
          "text": [
            "Dictionary saved to three_analyst_values.pickle\n"
          ]
        }
      ]
    },
    {
      "cell_type": "markdown",
      "source": [
        "## re-import saved analysts info"
      ],
      "metadata": {
        "id": "loDgs5ai5vuA"
      }
    },
    {
      "cell_type": "code",
      "source": [
        "import pickle\n",
        "\n",
        "with open('three_analyst_values.pickle', 'rb') as file:\n",
        "    loaded_dict = pickle.load(file)\n",
        "\n",
        "# Now you can use loaded_dict, which contains the saved data\n",
        "print(loaded_dict)"
      ],
      "metadata": {
        "colab": {
          "base_uri": "https://localhost:8080/"
        },
        "id": "q3RD0DiwxO19",
        "outputId": "93a6b92f-a71c-40e5-c5c5-99d7c125c4d8"
      },
      "execution_count": 12,
      "outputs": [
        {
          "output_type": "stream",
          "name": "stdout",
          "text": [
            "[Analyst(affiliation='Empathy and Observation', name='Alexandra Insight', step_role='Description, Feelings', description='Alexandra Insight is dedicated to capturing the essence of experiences with a keen eye for detail and a heart attuned to emotional nuances. Her empathetic and curious nature allows her to delve deeply into the factual recounting of events while understanding the emotional landscape that accompanies them. Grounded in her approach, she ensures that every aspect of the situation is comprehensively documented and felt.'), Analyst(affiliation='Critical Evaluation and Systems Analysis', name='Jordan Logic', step_role='Evaluation, Analysis', description=\"Jordan Logic excels in dissecting experiences to evaluate their outcomes critically and understand the underlying causes. With an objective and reflective mindset, Jordan approaches each situation with a systems-minded perspective, seeking to uncover the intricate web of factors that influence results. His analytical prowess ensures a thorough assessment of what worked and what didn't, paving the way for deeper insights.\"), Analyst(affiliation='Strategic Growth and Future Planning', name='Taylor Progress', step_role='Conclusion, Action Plan', description='Taylor Progress is focused on transforming insights into actionable strategies for future growth. With a constructive and optimistic outlook, Taylor synthesizes lessons learned to identify alternative approaches and develop practical plans for improvement. Her pragmatic style ensures that reflections lead to tangible steps forward, fostering continuous development and readiness for future challenges.')]\n"
          ]
        }
      ]
    },
    {
      "cell_type": "code",
      "source": [
        "loaded_dict"
      ],
      "metadata": {
        "colab": {
          "base_uri": "https://localhost:8080/"
        },
        "id": "NKgwWs1zxOyz",
        "outputId": "c07901d8-3284-4057-aebc-486bcdcac7e0"
      },
      "execution_count": 13,
      "outputs": [
        {
          "output_type": "execute_result",
          "data": {
            "text/plain": [
              "[Analyst(affiliation='Empathy and Observation', name='Alexandra Insight', step_role='Description, Feelings', description='Alexandra Insight is dedicated to capturing the essence of experiences with a keen eye for detail and a heart attuned to emotional nuances. Her empathetic and curious nature allows her to delve deeply into the factual recounting of events while understanding the emotional landscape that accompanies them. Grounded in her approach, she ensures that every aspect of the situation is comprehensively documented and felt.'),\n",
              " Analyst(affiliation='Critical Evaluation and Systems Analysis', name='Jordan Logic', step_role='Evaluation, Analysis', description=\"Jordan Logic excels in dissecting experiences to evaluate their outcomes critically and understand the underlying causes. With an objective and reflective mindset, Jordan approaches each situation with a systems-minded perspective, seeking to uncover the intricate web of factors that influence results. His analytical prowess ensures a thorough assessment of what worked and what didn't, paving the way for deeper insights.\"),\n",
              " Analyst(affiliation='Strategic Growth and Future Planning', name='Taylor Progress', step_role='Conclusion, Action Plan', description='Taylor Progress is focused on transforming insights into actionable strategies for future growth. With a constructive and optimistic outlook, Taylor synthesizes lessons learned to identify alternative approaches and develop practical plans for improvement. Her pragmatic style ensures that reflections lead to tangible steps forward, fostering continuous development and readiness for future challenges.')]"
            ]
          },
          "metadata": {},
          "execution_count": 13
        }
      ]
    },
    {
      "cell_type": "code",
      "source": [],
      "metadata": {
        "id": "KeYRHo1DwUYy"
      },
      "execution_count": null,
      "outputs": []
    }
  ]
}