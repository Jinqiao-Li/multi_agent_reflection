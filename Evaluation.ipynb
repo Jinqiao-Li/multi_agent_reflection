{
  "nbformat": 4,
  "nbformat_minor": 0,
  "metadata": {
    "colab": {
      "provenance": []
    },
    "kernelspec": {
      "name": "python3",
      "display_name": "Python 3"
    },
    "language_info": {
      "name": "python"
    }
  },
  "cells": [
    {
      "cell_type": "code",
      "source": [
        "%%capture --no-stderr\n",
        "%pip install -U langchain_openai langgraph python-dotenv"
      ],
      "metadata": {
        "id": "QgcHMYgM6_S3"
      },
      "execution_count": 3,
      "outputs": []
    },
    {
      "cell_type": "code",
      "source": [
        "import pandas as pd\n",
        "import multi_agent_model\n",
        "from multi_agent_model import analyze_reflection, app, Analyst"
      ],
      "metadata": {
        "id": "2k1Xs2ERMIn0"
      },
      "execution_count": 35,
      "outputs": []
    },
    {
      "cell_type": "code",
      "source": [
        "test_data = '/content/drive/MyDrive/BFH/rflect/data/data_v3/500_v3_cleaned_with_topic.xlsx'\n",
        "test_df = pd.read_excel(test_data)"
      ],
      "metadata": {
        "id": "hS5dOwfME0Vy"
      },
      "execution_count": 51,
      "outputs": []
    },
    {
      "cell_type": "code",
      "source": [
        "evaluation_50 = test_df[0:50]\n",
        "# evaluation_50[['Topic', 'question', 'reflection_text', 'course_name']]"
      ],
      "metadata": {
        "id": "r9ZJINyYtQhc"
      },
      "execution_count": 52,
      "outputs": []
    },
    {
      "cell_type": "markdown",
      "source": [
        "## Single Example Evaluation"
      ],
      "metadata": {
        "id": "n-m8CY9TwcJc"
      }
    },
    {
      "cell_type": "code",
      "source": [
        "# Example data\n",
        "topic = \"Data Science and Technology\"\n",
        "reflection_input = \"The difference between Regressions and Classifications. For me these topics were not completely new but far away for applying them  after the last module the fog lifted and I have a clearer view again even though there is still to learn on application usage and limitations of these subjects\"\n",
        "course_name = \"CAS Data Science and Machine Learning\"\n",
        "question = \"What do you know now that you didnt know before the last module\"\n",
        "\n",
        "# Call the analyze_reflection function\n",
        "result = analyze_reflection(topic, reflection_input, course_name, question)\n",
        "\n",
        "# Print the result\n",
        "print(result)"
      ],
      "metadata": {
        "colab": {
          "base_uri": "https://localhost:8080/"
        },
        "id": "oTJoXIAyrmLk",
        "outputId": "5f8afb04-2bcd-4b29-f711-a3cdf65c58f6"
      },
      "execution_count": 53,
      "outputs": [
        {
          "output_type": "stream",
          "name": "stdout",
          "text": [
            "{'grades': {'Description': 1, 'Feelings': 0, 'Evaluation': 1, 'Analysis': 1, 'Conclusion': 1, 'Action Plan': 0}, 'feedback': \"You've done well in articulating your learning journey and emotional growth. To deepen your reflection, consider sharing specific feelings you experienced during the learning process. Additionally, for your action plan, what concrete steps will you take to further explore regressions and classifications? Perhaps set a goal to complete a project or seek additional resources. How will you measure your progress in the coming months?\"}\n"
          ]
        }
      ]
    },
    {
      "cell_type": "markdown",
      "source": [
        "## Dataset Evaluation"
      ],
      "metadata": {
        "id": "5PX2NvXFw0-C"
      }
    },
    {
      "cell_type": "markdown",
      "source": [
        "Evaluation on the 50 human-labeled dataset"
      ],
      "metadata": {
        "id": "bMrYztG63lzc"
      }
    },
    {
      "cell_type": "markdown",
      "source": [
        "### data pre-process"
      ],
      "metadata": {
        "id": "CzCFO0gVxeBz"
      }
    },
    {
      "cell_type": "code",
      "source": [
        "\n",
        "def check_null_values(df, columns):\n",
        "    for column in columns:\n",
        "        if df[column].isnull().any():\n",
        "            print(f\"Column '{column}' contains null values.\")\n",
        "            return True  # Return True if nulls are found\n",
        "    return False  # Return False if no nulls are found\n",
        "\n",
        "columns_to_check = ['Topic', 'question', 'reflection_text', 'course_name']\n",
        "\n",
        "# Check for null values\n",
        "if check_null_values(test_df, columns_to_check):\n",
        "    print(\"Null values were found in the specified columns.\")\n",
        "else:\n",
        "    print(\"No null values were found in the specified columns.\")\n",
        "\n",
        "\n",
        "def process_columns(df, columns):\n",
        "    for column in columns:\n",
        "        df.loc[:, column] = df[column].fillna('').astype(str)  # Using .loc for explicit assignment\n",
        "    return df\n"
      ],
      "metadata": {
        "colab": {
          "base_uri": "https://localhost:8080/"
        },
        "id": "W03u7dZx04nS",
        "outputId": "e9a1398d-a322-4a67-976c-6c368354000b"
      },
      "execution_count": 54,
      "outputs": [
        {
          "output_type": "stream",
          "name": "stdout",
          "text": [
            "Column 'reflection_text' contains null values.\n",
            "Null values were found in the specified columns.\n"
          ]
        }
      ]
    },
    {
      "cell_type": "code",
      "source": [
        "columns_to_process = ['Topic', 'question', 'reflection_text', 'course_name']\n",
        "evaluation_50 = process_columns(evaluation_50, columns_to_process)"
      ],
      "metadata": {
        "id": "vHYpz5Iny1Sz"
      },
      "execution_count": 62,
      "outputs": []
    },
    {
      "cell_type": "code",
      "source": [
        "evaluation_50['results'] = evaluation_50.apply(lambda row:\n",
        "                                               analyze_reflection(row['Topic'], row['reflection_text'], row['course_name'], row['question']), axis=1)"
      ],
      "metadata": {
        "collapsed": true,
        "colab": {
          "base_uri": "https://localhost:8080/"
        },
        "id": "eLk78j2_IY7K",
        "outputId": "43ea9292-018a-4bc2-d167-128ef72a52bd"
      },
      "execution_count": 63,
      "outputs": [
        {
          "output_type": "stream",
          "name": "stderr",
          "text": [
            "<ipython-input-63-6e24ca2387b8>:1: SettingWithCopyWarning: \n",
            "A value is trying to be set on a copy of a slice from a DataFrame.\n",
            "Try using .loc[row_indexer,col_indexer] = value instead\n",
            "\n",
            "See the caveats in the documentation: https://pandas.pydata.org/pandas-docs/stable/user_guide/indexing.html#returning-a-view-versus-a-copy\n",
            "  evaluation_50['results'] = evaluation_50.apply(lambda row:\n"
          ]
        }
      ]
    },
    {
      "cell_type": "markdown",
      "source": [
        "## parse the gpt-4o-mini results"
      ],
      "metadata": {
        "id": "iitQyH47IZ4M"
      }
    },
    {
      "cell_type": "code",
      "source": [
        "\n",
        "# Create a new dataframe to store parsed results\n",
        "results_df = pd.DataFrame(columns=['Description', 'Feeling', 'Evaluation', 'Analysis', 'Conclusion', 'Action Plan', 'feedback'])\n",
        "\n",
        "# Parse the results and populate the new dataframe\n",
        "for index, row in evaluation_50.iterrows():\n",
        "    result = row['results']\n",
        "    grades = result.get('grades', {})  # Handle missing grades gracefully\n",
        "    new_row = {\n",
        "        'Description': grades.get('Description'),\n",
        "        'Feeling': grades.get('Feelings'),\n",
        "        'Evaluation': grades.get('Evaluation'),\n",
        "        'Analysis': grades.get('Analysis'),\n",
        "        'Conclusion': grades.get('Conclusion'),\n",
        "        'Action Plan': grades.get('Action Plan'),\n",
        "        'feedback': result.get('feedback')\n",
        "    }\n",
        "    results_df = pd.concat([results_df, pd.DataFrame([new_row])], ignore_index=True)\n"
      ],
      "metadata": {
        "id": "AdQRsJZYW8l8"
      },
      "execution_count": 67,
      "outputs": []
    },
    {
      "cell_type": "code",
      "source": [
        "evaluated_50_path = '/content/drive/MyDrive/BFH/rflect/data/data_v3/50_evaluation.xlsx'\n",
        "results_df.to_excel(evaluated_50_path, index=False)"
      ],
      "metadata": {
        "id": "mcRleykoIIUQ"
      },
      "execution_count": 69,
      "outputs": []
    },
    {
      "cell_type": "code",
      "source": [],
      "metadata": {
        "id": "XEsWl3fQ5Yv3"
      },
      "execution_count": null,
      "outputs": []
    }
  ]
}